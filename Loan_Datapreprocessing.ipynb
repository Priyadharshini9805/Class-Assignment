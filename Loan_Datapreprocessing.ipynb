{
 "cells": [
  {
   "cell_type": "code",
   "execution_count": 1,
   "id": "5075a48f",
   "metadata": {},
   "outputs": [],
   "source": [
    "import pandas as pd\n",
    "import numpy as np\n",
    "from sklearn.preprocessing import MinMaxScaler,StandardScaler"
   ]
  },
  {
   "cell_type": "code",
   "execution_count": 2,
   "id": "e08bf1d2",
   "metadata": {},
   "outputs": [],
   "source": [
    "data=pd.read_csv('https://raw.githubusercontent.com/nursnaaz/DataScienceMasterclass/main/05%20-%20Data%20Preprocessing%20with%20EDA/Test/Loan_Default.csv',sep=',')"
   ]
  },
  {
   "cell_type": "code",
   "execution_count": 3,
   "id": "fb93ba3f",
   "metadata": {},
   "outputs": [
    {
     "data": {
      "text/html": [
       "<div>\n",
       "<style scoped>\n",
       "    .dataframe tbody tr th:only-of-type {\n",
       "        vertical-align: middle;\n",
       "    }\n",
       "\n",
       "    .dataframe tbody tr th {\n",
       "        vertical-align: top;\n",
       "    }\n",
       "\n",
       "    .dataframe thead th {\n",
       "        text-align: right;\n",
       "    }\n",
       "</style>\n",
       "<table border=\"1\" class=\"dataframe\">\n",
       "  <thead>\n",
       "    <tr style=\"text-align: right;\">\n",
       "      <th></th>\n",
       "      <th>ID</th>\n",
       "      <th>year</th>\n",
       "      <th>loan_limit</th>\n",
       "      <th>Gender</th>\n",
       "      <th>approv_in_adv</th>\n",
       "      <th>loan_type</th>\n",
       "      <th>loan_purpose</th>\n",
       "      <th>Credit_Worthiness</th>\n",
       "      <th>open_credit</th>\n",
       "      <th>business_or_commercial</th>\n",
       "      <th>...</th>\n",
       "      <th>credit_type</th>\n",
       "      <th>Credit_Score</th>\n",
       "      <th>co-applicant_credit_type</th>\n",
       "      <th>age</th>\n",
       "      <th>submission_of_application</th>\n",
       "      <th>LTV</th>\n",
       "      <th>Region</th>\n",
       "      <th>Security_Type</th>\n",
       "      <th>Status</th>\n",
       "      <th>dtir1</th>\n",
       "    </tr>\n",
       "  </thead>\n",
       "  <tbody>\n",
       "    <tr>\n",
       "      <th>0</th>\n",
       "      <td>24890</td>\n",
       "      <td>2019</td>\n",
       "      <td>cf</td>\n",
       "      <td>Sex Not Available</td>\n",
       "      <td>nopre</td>\n",
       "      <td>type1</td>\n",
       "      <td>p1</td>\n",
       "      <td>l1</td>\n",
       "      <td>nopc</td>\n",
       "      <td>nob/c</td>\n",
       "      <td>...</td>\n",
       "      <td>EXP</td>\n",
       "      <td>758</td>\n",
       "      <td>CIB</td>\n",
       "      <td>25-34</td>\n",
       "      <td>to_inst</td>\n",
       "      <td>98.728814</td>\n",
       "      <td>south</td>\n",
       "      <td>direct</td>\n",
       "      <td>1</td>\n",
       "      <td>45.0</td>\n",
       "    </tr>\n",
       "    <tr>\n",
       "      <th>1</th>\n",
       "      <td>24891</td>\n",
       "      <td>2019</td>\n",
       "      <td>cf</td>\n",
       "      <td>Male</td>\n",
       "      <td>nopre</td>\n",
       "      <td>type2</td>\n",
       "      <td>p1</td>\n",
       "      <td>l1</td>\n",
       "      <td>nopc</td>\n",
       "      <td>b/c</td>\n",
       "      <td>...</td>\n",
       "      <td>EQUI</td>\n",
       "      <td>552</td>\n",
       "      <td>EXP</td>\n",
       "      <td>55-64</td>\n",
       "      <td>to_inst</td>\n",
       "      <td>NaN</td>\n",
       "      <td>North</td>\n",
       "      <td>direct</td>\n",
       "      <td>1</td>\n",
       "      <td>NaN</td>\n",
       "    </tr>\n",
       "    <tr>\n",
       "      <th>2</th>\n",
       "      <td>24892</td>\n",
       "      <td>2019</td>\n",
       "      <td>cf</td>\n",
       "      <td>Male</td>\n",
       "      <td>pre</td>\n",
       "      <td>type1</td>\n",
       "      <td>p1</td>\n",
       "      <td>l1</td>\n",
       "      <td>nopc</td>\n",
       "      <td>nob/c</td>\n",
       "      <td>...</td>\n",
       "      <td>EXP</td>\n",
       "      <td>834</td>\n",
       "      <td>CIB</td>\n",
       "      <td>35-44</td>\n",
       "      <td>to_inst</td>\n",
       "      <td>80.019685</td>\n",
       "      <td>south</td>\n",
       "      <td>direct</td>\n",
       "      <td>0</td>\n",
       "      <td>46.0</td>\n",
       "    </tr>\n",
       "    <tr>\n",
       "      <th>3</th>\n",
       "      <td>24893</td>\n",
       "      <td>2019</td>\n",
       "      <td>cf</td>\n",
       "      <td>Male</td>\n",
       "      <td>nopre</td>\n",
       "      <td>type1</td>\n",
       "      <td>p4</td>\n",
       "      <td>l1</td>\n",
       "      <td>nopc</td>\n",
       "      <td>nob/c</td>\n",
       "      <td>...</td>\n",
       "      <td>EXP</td>\n",
       "      <td>587</td>\n",
       "      <td>CIB</td>\n",
       "      <td>45-54</td>\n",
       "      <td>not_inst</td>\n",
       "      <td>69.376900</td>\n",
       "      <td>North</td>\n",
       "      <td>direct</td>\n",
       "      <td>0</td>\n",
       "      <td>42.0</td>\n",
       "    </tr>\n",
       "    <tr>\n",
       "      <th>4</th>\n",
       "      <td>24894</td>\n",
       "      <td>2019</td>\n",
       "      <td>cf</td>\n",
       "      <td>Joint</td>\n",
       "      <td>pre</td>\n",
       "      <td>type1</td>\n",
       "      <td>p1</td>\n",
       "      <td>l1</td>\n",
       "      <td>nopc</td>\n",
       "      <td>nob/c</td>\n",
       "      <td>...</td>\n",
       "      <td>CRIF</td>\n",
       "      <td>602</td>\n",
       "      <td>EXP</td>\n",
       "      <td>25-34</td>\n",
       "      <td>not_inst</td>\n",
       "      <td>91.886544</td>\n",
       "      <td>North</td>\n",
       "      <td>direct</td>\n",
       "      <td>0</td>\n",
       "      <td>39.0</td>\n",
       "    </tr>\n",
       "    <tr>\n",
       "      <th>...</th>\n",
       "      <td>...</td>\n",
       "      <td>...</td>\n",
       "      <td>...</td>\n",
       "      <td>...</td>\n",
       "      <td>...</td>\n",
       "      <td>...</td>\n",
       "      <td>...</td>\n",
       "      <td>...</td>\n",
       "      <td>...</td>\n",
       "      <td>...</td>\n",
       "      <td>...</td>\n",
       "      <td>...</td>\n",
       "      <td>...</td>\n",
       "      <td>...</td>\n",
       "      <td>...</td>\n",
       "      <td>...</td>\n",
       "      <td>...</td>\n",
       "      <td>...</td>\n",
       "      <td>...</td>\n",
       "      <td>...</td>\n",
       "      <td>...</td>\n",
       "    </tr>\n",
       "    <tr>\n",
       "      <th>148665</th>\n",
       "      <td>173555</td>\n",
       "      <td>2019</td>\n",
       "      <td>cf</td>\n",
       "      <td>Sex Not Available</td>\n",
       "      <td>nopre</td>\n",
       "      <td>type1</td>\n",
       "      <td>p3</td>\n",
       "      <td>l1</td>\n",
       "      <td>nopc</td>\n",
       "      <td>nob/c</td>\n",
       "      <td>...</td>\n",
       "      <td>CIB</td>\n",
       "      <td>659</td>\n",
       "      <td>EXP</td>\n",
       "      <td>55-64</td>\n",
       "      <td>to_inst</td>\n",
       "      <td>71.792763</td>\n",
       "      <td>south</td>\n",
       "      <td>direct</td>\n",
       "      <td>0</td>\n",
       "      <td>48.0</td>\n",
       "    </tr>\n",
       "    <tr>\n",
       "      <th>148666</th>\n",
       "      <td>173556</td>\n",
       "      <td>2019</td>\n",
       "      <td>cf</td>\n",
       "      <td>Male</td>\n",
       "      <td>nopre</td>\n",
       "      <td>type1</td>\n",
       "      <td>p1</td>\n",
       "      <td>l1</td>\n",
       "      <td>nopc</td>\n",
       "      <td>nob/c</td>\n",
       "      <td>...</td>\n",
       "      <td>CIB</td>\n",
       "      <td>569</td>\n",
       "      <td>CIB</td>\n",
       "      <td>25-34</td>\n",
       "      <td>not_inst</td>\n",
       "      <td>74.428934</td>\n",
       "      <td>south</td>\n",
       "      <td>direct</td>\n",
       "      <td>0</td>\n",
       "      <td>15.0</td>\n",
       "    </tr>\n",
       "    <tr>\n",
       "      <th>148667</th>\n",
       "      <td>173557</td>\n",
       "      <td>2019</td>\n",
       "      <td>cf</td>\n",
       "      <td>Male</td>\n",
       "      <td>nopre</td>\n",
       "      <td>type1</td>\n",
       "      <td>p4</td>\n",
       "      <td>l1</td>\n",
       "      <td>nopc</td>\n",
       "      <td>nob/c</td>\n",
       "      <td>...</td>\n",
       "      <td>CIB</td>\n",
       "      <td>702</td>\n",
       "      <td>EXP</td>\n",
       "      <td>45-54</td>\n",
       "      <td>not_inst</td>\n",
       "      <td>61.332418</td>\n",
       "      <td>North</td>\n",
       "      <td>direct</td>\n",
       "      <td>0</td>\n",
       "      <td>49.0</td>\n",
       "    </tr>\n",
       "    <tr>\n",
       "      <th>148668</th>\n",
       "      <td>173558</td>\n",
       "      <td>2019</td>\n",
       "      <td>cf</td>\n",
       "      <td>Female</td>\n",
       "      <td>nopre</td>\n",
       "      <td>type1</td>\n",
       "      <td>p4</td>\n",
       "      <td>l1</td>\n",
       "      <td>nopc</td>\n",
       "      <td>nob/c</td>\n",
       "      <td>...</td>\n",
       "      <td>EXP</td>\n",
       "      <td>737</td>\n",
       "      <td>EXP</td>\n",
       "      <td>55-64</td>\n",
       "      <td>to_inst</td>\n",
       "      <td>70.683453</td>\n",
       "      <td>North</td>\n",
       "      <td>direct</td>\n",
       "      <td>0</td>\n",
       "      <td>29.0</td>\n",
       "    </tr>\n",
       "    <tr>\n",
       "      <th>148669</th>\n",
       "      <td>173559</td>\n",
       "      <td>2019</td>\n",
       "      <td>cf</td>\n",
       "      <td>Female</td>\n",
       "      <td>nopre</td>\n",
       "      <td>type1</td>\n",
       "      <td>p3</td>\n",
       "      <td>l1</td>\n",
       "      <td>nopc</td>\n",
       "      <td>nob/c</td>\n",
       "      <td>...</td>\n",
       "      <td>CIB</td>\n",
       "      <td>830</td>\n",
       "      <td>CIB</td>\n",
       "      <td>45-54</td>\n",
       "      <td>not_inst</td>\n",
       "      <td>72.849462</td>\n",
       "      <td>North</td>\n",
       "      <td>direct</td>\n",
       "      <td>0</td>\n",
       "      <td>44.0</td>\n",
       "    </tr>\n",
       "  </tbody>\n",
       "</table>\n",
       "<p>148670 rows × 34 columns</p>\n",
       "</div>"
      ],
      "text/plain": [
       "            ID  year loan_limit             Gender approv_in_adv loan_type  \\\n",
       "0        24890  2019         cf  Sex Not Available         nopre     type1   \n",
       "1        24891  2019         cf               Male         nopre     type2   \n",
       "2        24892  2019         cf               Male           pre     type1   \n",
       "3        24893  2019         cf               Male         nopre     type1   \n",
       "4        24894  2019         cf              Joint           pre     type1   \n",
       "...        ...   ...        ...                ...           ...       ...   \n",
       "148665  173555  2019         cf  Sex Not Available         nopre     type1   \n",
       "148666  173556  2019         cf               Male         nopre     type1   \n",
       "148667  173557  2019         cf               Male         nopre     type1   \n",
       "148668  173558  2019         cf             Female         nopre     type1   \n",
       "148669  173559  2019         cf             Female         nopre     type1   \n",
       "\n",
       "       loan_purpose Credit_Worthiness open_credit business_or_commercial  ...  \\\n",
       "0                p1                l1        nopc                  nob/c  ...   \n",
       "1                p1                l1        nopc                    b/c  ...   \n",
       "2                p1                l1        nopc                  nob/c  ...   \n",
       "3                p4                l1        nopc                  nob/c  ...   \n",
       "4                p1                l1        nopc                  nob/c  ...   \n",
       "...             ...               ...         ...                    ...  ...   \n",
       "148665           p3                l1        nopc                  nob/c  ...   \n",
       "148666           p1                l1        nopc                  nob/c  ...   \n",
       "148667           p4                l1        nopc                  nob/c  ...   \n",
       "148668           p4                l1        nopc                  nob/c  ...   \n",
       "148669           p3                l1        nopc                  nob/c  ...   \n",
       "\n",
       "        credit_type  Credit_Score  co-applicant_credit_type    age  \\\n",
       "0               EXP           758                       CIB  25-34   \n",
       "1              EQUI           552                       EXP  55-64   \n",
       "2               EXP           834                       CIB  35-44   \n",
       "3               EXP           587                       CIB  45-54   \n",
       "4              CRIF           602                       EXP  25-34   \n",
       "...             ...           ...                       ...    ...   \n",
       "148665          CIB           659                       EXP  55-64   \n",
       "148666          CIB           569                       CIB  25-34   \n",
       "148667          CIB           702                       EXP  45-54   \n",
       "148668          EXP           737                       EXP  55-64   \n",
       "148669          CIB           830                       CIB  45-54   \n",
       "\n",
       "        submission_of_application        LTV Region Security_Type  Status  \\\n",
       "0                         to_inst  98.728814  south        direct       1   \n",
       "1                         to_inst        NaN  North        direct       1   \n",
       "2                         to_inst  80.019685  south        direct       0   \n",
       "3                        not_inst  69.376900  North        direct       0   \n",
       "4                        not_inst  91.886544  North        direct       0   \n",
       "...                           ...        ...    ...           ...     ...   \n",
       "148665                    to_inst  71.792763  south        direct       0   \n",
       "148666                   not_inst  74.428934  south        direct       0   \n",
       "148667                   not_inst  61.332418  North        direct       0   \n",
       "148668                    to_inst  70.683453  North        direct       0   \n",
       "148669                   not_inst  72.849462  North        direct       0   \n",
       "\n",
       "       dtir1  \n",
       "0       45.0  \n",
       "1        NaN  \n",
       "2       46.0  \n",
       "3       42.0  \n",
       "4       39.0  \n",
       "...      ...  \n",
       "148665  48.0  \n",
       "148666  15.0  \n",
       "148667  49.0  \n",
       "148668  29.0  \n",
       "148669  44.0  \n",
       "\n",
       "[148670 rows x 34 columns]"
      ]
     },
     "execution_count": 3,
     "metadata": {},
     "output_type": "execute_result"
    }
   ],
   "source": [
    "data"
   ]
  },
  {
   "cell_type": "code",
   "execution_count": 4,
   "id": "ec9c84b7",
   "metadata": {},
   "outputs": [
    {
     "data": {
      "text/plain": [
       "0"
      ]
     },
     "execution_count": 4,
     "metadata": {},
     "output_type": "execute_result"
    }
   ],
   "source": [
    "data.duplicated().sum()"
   ]
  },
  {
   "cell_type": "code",
   "execution_count": 5,
   "id": "de2729cb",
   "metadata": {},
   "outputs": [
    {
     "name": "stdout",
     "output_type": "stream",
     "text": [
      "<class 'pandas.core.frame.DataFrame'>\n",
      "RangeIndex: 148670 entries, 0 to 148669\n",
      "Data columns (total 34 columns):\n",
      " #   Column                     Non-Null Count   Dtype  \n",
      "---  ------                     --------------   -----  \n",
      " 0   ID                         148670 non-null  int64  \n",
      " 1   year                       148670 non-null  int64  \n",
      " 2   loan_limit                 145326 non-null  object \n",
      " 3   Gender                     148670 non-null  object \n",
      " 4   approv_in_adv              147762 non-null  object \n",
      " 5   loan_type                  148670 non-null  object \n",
      " 6   loan_purpose               148536 non-null  object \n",
      " 7   Credit_Worthiness          148670 non-null  object \n",
      " 8   open_credit                148670 non-null  object \n",
      " 9   business_or_commercial     148670 non-null  object \n",
      " 10  loan_amount                148670 non-null  int64  \n",
      " 11  rate_of_interest           112231 non-null  float64\n",
      " 12  Interest_rate_spread       112031 non-null  float64\n",
      " 13  Upfront_charges            109028 non-null  float64\n",
      " 14  term                       148629 non-null  float64\n",
      " 15  Neg_ammortization          148549 non-null  object \n",
      " 16  interest_only              148670 non-null  object \n",
      " 17  lump_sum_payment           148670 non-null  object \n",
      " 18  property_value             133572 non-null  float64\n",
      " 19  construction_type          148670 non-null  object \n",
      " 20  occupancy_type             148670 non-null  object \n",
      " 21  Secured_by                 148670 non-null  object \n",
      " 22  total_units                148670 non-null  object \n",
      " 23  income                     139520 non-null  float64\n",
      " 24  credit_type                148670 non-null  object \n",
      " 25  Credit_Score               148670 non-null  int64  \n",
      " 26  co-applicant_credit_type   148670 non-null  object \n",
      " 27  age                        148470 non-null  object \n",
      " 28  submission_of_application  148470 non-null  object \n",
      " 29  LTV                        133572 non-null  float64\n",
      " 30  Region                     148670 non-null  object \n",
      " 31  Security_Type              148670 non-null  object \n",
      " 32  Status                     148670 non-null  int64  \n",
      " 33  dtir1                      124549 non-null  float64\n",
      "dtypes: float64(8), int64(5), object(21)\n",
      "memory usage: 38.6+ MB\n"
     ]
    }
   ],
   "source": [
    "data.info()"
   ]
  },
  {
   "cell_type": "code",
   "execution_count": 6,
   "id": "40fbb710",
   "metadata": {},
   "outputs": [
    {
     "data": {
      "text/html": [
       "<div>\n",
       "<style scoped>\n",
       "    .dataframe tbody tr th:only-of-type {\n",
       "        vertical-align: middle;\n",
       "    }\n",
       "\n",
       "    .dataframe tbody tr th {\n",
       "        vertical-align: top;\n",
       "    }\n",
       "\n",
       "    .dataframe thead th {\n",
       "        text-align: right;\n",
       "    }\n",
       "</style>\n",
       "<table border=\"1\" class=\"dataframe\">\n",
       "  <thead>\n",
       "    <tr style=\"text-align: right;\">\n",
       "      <th></th>\n",
       "      <th>ID</th>\n",
       "      <th>year</th>\n",
       "      <th>loan_amount</th>\n",
       "      <th>rate_of_interest</th>\n",
       "      <th>Interest_rate_spread</th>\n",
       "      <th>Upfront_charges</th>\n",
       "      <th>term</th>\n",
       "      <th>property_value</th>\n",
       "      <th>income</th>\n",
       "      <th>Credit_Score</th>\n",
       "      <th>LTV</th>\n",
       "      <th>Status</th>\n",
       "      <th>dtir1</th>\n",
       "    </tr>\n",
       "  </thead>\n",
       "  <tbody>\n",
       "    <tr>\n",
       "      <th>count</th>\n",
       "      <td>148670.000000</td>\n",
       "      <td>148670.0</td>\n",
       "      <td>1.486700e+05</td>\n",
       "      <td>112231.000000</td>\n",
       "      <td>112031.000000</td>\n",
       "      <td>109028.000000</td>\n",
       "      <td>148629.000000</td>\n",
       "      <td>1.335720e+05</td>\n",
       "      <td>139520.000000</td>\n",
       "      <td>148670.000000</td>\n",
       "      <td>133572.000000</td>\n",
       "      <td>148670.000000</td>\n",
       "      <td>124549.000000</td>\n",
       "    </tr>\n",
       "    <tr>\n",
       "      <th>mean</th>\n",
       "      <td>99224.500000</td>\n",
       "      <td>2019.0</td>\n",
       "      <td>3.311177e+05</td>\n",
       "      <td>4.045476</td>\n",
       "      <td>0.441656</td>\n",
       "      <td>3224.996127</td>\n",
       "      <td>335.136582</td>\n",
       "      <td>4.978935e+05</td>\n",
       "      <td>6957.338876</td>\n",
       "      <td>699.789103</td>\n",
       "      <td>72.746457</td>\n",
       "      <td>0.246445</td>\n",
       "      <td>37.732932</td>\n",
       "    </tr>\n",
       "    <tr>\n",
       "      <th>std</th>\n",
       "      <td>42917.476598</td>\n",
       "      <td>0.0</td>\n",
       "      <td>1.839093e+05</td>\n",
       "      <td>0.561391</td>\n",
       "      <td>0.513043</td>\n",
       "      <td>3251.121510</td>\n",
       "      <td>58.409084</td>\n",
       "      <td>3.599353e+05</td>\n",
       "      <td>6496.586382</td>\n",
       "      <td>115.875857</td>\n",
       "      <td>39.967603</td>\n",
       "      <td>0.430942</td>\n",
       "      <td>10.545435</td>\n",
       "    </tr>\n",
       "    <tr>\n",
       "      <th>min</th>\n",
       "      <td>24890.000000</td>\n",
       "      <td>2019.0</td>\n",
       "      <td>1.650000e+04</td>\n",
       "      <td>0.000000</td>\n",
       "      <td>-3.638000</td>\n",
       "      <td>0.000000</td>\n",
       "      <td>96.000000</td>\n",
       "      <td>8.000000e+03</td>\n",
       "      <td>0.000000</td>\n",
       "      <td>500.000000</td>\n",
       "      <td>0.967478</td>\n",
       "      <td>0.000000</td>\n",
       "      <td>5.000000</td>\n",
       "    </tr>\n",
       "    <tr>\n",
       "      <th>25%</th>\n",
       "      <td>62057.250000</td>\n",
       "      <td>2019.0</td>\n",
       "      <td>1.965000e+05</td>\n",
       "      <td>3.625000</td>\n",
       "      <td>0.076000</td>\n",
       "      <td>581.490000</td>\n",
       "      <td>360.000000</td>\n",
       "      <td>2.680000e+05</td>\n",
       "      <td>3720.000000</td>\n",
       "      <td>599.000000</td>\n",
       "      <td>60.474860</td>\n",
       "      <td>0.000000</td>\n",
       "      <td>31.000000</td>\n",
       "    </tr>\n",
       "    <tr>\n",
       "      <th>50%</th>\n",
       "      <td>99224.500000</td>\n",
       "      <td>2019.0</td>\n",
       "      <td>2.965000e+05</td>\n",
       "      <td>3.990000</td>\n",
       "      <td>0.390400</td>\n",
       "      <td>2596.450000</td>\n",
       "      <td>360.000000</td>\n",
       "      <td>4.180000e+05</td>\n",
       "      <td>5760.000000</td>\n",
       "      <td>699.000000</td>\n",
       "      <td>75.135870</td>\n",
       "      <td>0.000000</td>\n",
       "      <td>39.000000</td>\n",
       "    </tr>\n",
       "    <tr>\n",
       "      <th>75%</th>\n",
       "      <td>136391.750000</td>\n",
       "      <td>2019.0</td>\n",
       "      <td>4.365000e+05</td>\n",
       "      <td>4.375000</td>\n",
       "      <td>0.775400</td>\n",
       "      <td>4812.500000</td>\n",
       "      <td>360.000000</td>\n",
       "      <td>6.280000e+05</td>\n",
       "      <td>8520.000000</td>\n",
       "      <td>800.000000</td>\n",
       "      <td>86.184211</td>\n",
       "      <td>0.000000</td>\n",
       "      <td>45.000000</td>\n",
       "    </tr>\n",
       "    <tr>\n",
       "      <th>max</th>\n",
       "      <td>173559.000000</td>\n",
       "      <td>2019.0</td>\n",
       "      <td>3.576500e+06</td>\n",
       "      <td>8.000000</td>\n",
       "      <td>3.357000</td>\n",
       "      <td>60000.000000</td>\n",
       "      <td>360.000000</td>\n",
       "      <td>1.650800e+07</td>\n",
       "      <td>578580.000000</td>\n",
       "      <td>900.000000</td>\n",
       "      <td>7831.250000</td>\n",
       "      <td>1.000000</td>\n",
       "      <td>61.000000</td>\n",
       "    </tr>\n",
       "  </tbody>\n",
       "</table>\n",
       "</div>"
      ],
      "text/plain": [
       "                  ID      year   loan_amount  rate_of_interest  \\\n",
       "count  148670.000000  148670.0  1.486700e+05     112231.000000   \n",
       "mean    99224.500000    2019.0  3.311177e+05          4.045476   \n",
       "std     42917.476598       0.0  1.839093e+05          0.561391   \n",
       "min     24890.000000    2019.0  1.650000e+04          0.000000   \n",
       "25%     62057.250000    2019.0  1.965000e+05          3.625000   \n",
       "50%     99224.500000    2019.0  2.965000e+05          3.990000   \n",
       "75%    136391.750000    2019.0  4.365000e+05          4.375000   \n",
       "max    173559.000000    2019.0  3.576500e+06          8.000000   \n",
       "\n",
       "       Interest_rate_spread  Upfront_charges           term  property_value  \\\n",
       "count         112031.000000    109028.000000  148629.000000    1.335720e+05   \n",
       "mean               0.441656      3224.996127     335.136582    4.978935e+05   \n",
       "std                0.513043      3251.121510      58.409084    3.599353e+05   \n",
       "min               -3.638000         0.000000      96.000000    8.000000e+03   \n",
       "25%                0.076000       581.490000     360.000000    2.680000e+05   \n",
       "50%                0.390400      2596.450000     360.000000    4.180000e+05   \n",
       "75%                0.775400      4812.500000     360.000000    6.280000e+05   \n",
       "max                3.357000     60000.000000     360.000000    1.650800e+07   \n",
       "\n",
       "              income   Credit_Score            LTV         Status  \\\n",
       "count  139520.000000  148670.000000  133572.000000  148670.000000   \n",
       "mean     6957.338876     699.789103      72.746457       0.246445   \n",
       "std      6496.586382     115.875857      39.967603       0.430942   \n",
       "min         0.000000     500.000000       0.967478       0.000000   \n",
       "25%      3720.000000     599.000000      60.474860       0.000000   \n",
       "50%      5760.000000     699.000000      75.135870       0.000000   \n",
       "75%      8520.000000     800.000000      86.184211       0.000000   \n",
       "max    578580.000000     900.000000    7831.250000       1.000000   \n",
       "\n",
       "               dtir1  \n",
       "count  124549.000000  \n",
       "mean       37.732932  \n",
       "std        10.545435  \n",
       "min         5.000000  \n",
       "25%        31.000000  \n",
       "50%        39.000000  \n",
       "75%        45.000000  \n",
       "max        61.000000  "
      ]
     },
     "execution_count": 6,
     "metadata": {},
     "output_type": "execute_result"
    }
   ],
   "source": [
    "data.describe()"
   ]
  },
  {
   "cell_type": "code",
   "execution_count": 7,
   "id": "8bc5f89c",
   "metadata": {},
   "outputs": [
    {
     "data": {
      "text/plain": [
       "ID                               0\n",
       "year                             0\n",
       "loan_limit                    3344\n",
       "Gender                           0\n",
       "approv_in_adv                  908\n",
       "loan_type                        0\n",
       "loan_purpose                   134\n",
       "Credit_Worthiness                0\n",
       "open_credit                      0\n",
       "business_or_commercial           0\n",
       "loan_amount                      0\n",
       "rate_of_interest             36439\n",
       "Interest_rate_spread         36639\n",
       "Upfront_charges              39642\n",
       "term                            41\n",
       "Neg_ammortization              121\n",
       "interest_only                    0\n",
       "lump_sum_payment                 0\n",
       "property_value               15098\n",
       "construction_type                0\n",
       "occupancy_type                   0\n",
       "Secured_by                       0\n",
       "total_units                      0\n",
       "income                        9150\n",
       "credit_type                      0\n",
       "Credit_Score                     0\n",
       "co-applicant_credit_type         0\n",
       "age                            200\n",
       "submission_of_application      200\n",
       "LTV                          15098\n",
       "Region                           0\n",
       "Security_Type                    0\n",
       "Status                           0\n",
       "dtir1                        24121\n",
       "dtype: int64"
      ]
     },
     "execution_count": 7,
     "metadata": {},
     "output_type": "execute_result"
    }
   ],
   "source": [
    "data.isna().sum()"
   ]
  },
  {
   "cell_type": "code",
   "execution_count": 8,
   "id": "645f6599",
   "metadata": {},
   "outputs": [],
   "source": [
    "data.dropna(subset=['loan_purpose','Neg_ammortization','term'], inplace=True)"
   ]
  },
  {
   "cell_type": "code",
   "execution_count": 9,
   "id": "4885f056",
   "metadata": {
    "scrolled": false
   },
   "outputs": [
    {
     "data": {
      "text/plain": [
       "ID                               0\n",
       "year                             0\n",
       "loan_limit                    3344\n",
       "Gender                           0\n",
       "approv_in_adv                  908\n",
       "loan_type                        0\n",
       "loan_purpose                     0\n",
       "Credit_Worthiness                0\n",
       "open_credit                      0\n",
       "business_or_commercial           0\n",
       "loan_amount                      0\n",
       "rate_of_interest             36365\n",
       "Interest_rate_spread         36557\n",
       "Upfront_charges              39561\n",
       "term                             0\n",
       "Neg_ammortization                0\n",
       "interest_only                    0\n",
       "lump_sum_payment                 0\n",
       "property_value               15061\n",
       "construction_type                0\n",
       "occupancy_type                   0\n",
       "Secured_by                       0\n",
       "total_units                      0\n",
       "income                        9141\n",
       "credit_type                      0\n",
       "Credit_Score                     0\n",
       "co-applicant_credit_type         0\n",
       "age                            192\n",
       "submission_of_application      192\n",
       "LTV                          15061\n",
       "Region                           0\n",
       "Security_Type                    0\n",
       "Status                           0\n",
       "dtir1                        24075\n",
       "dtype: int64"
      ]
     },
     "execution_count": 9,
     "metadata": {},
     "output_type": "execute_result"
    }
   ],
   "source": [
    "data.isna().sum()"
   ]
  },
  {
   "cell_type": "code",
   "execution_count": 10,
   "id": "28aa6fde",
   "metadata": {},
   "outputs": [],
   "source": [
    "data.drop(columns='ID', inplace=True)"
   ]
  },
  {
   "cell_type": "code",
   "execution_count": 11,
   "id": "21fc90c4",
   "metadata": {},
   "outputs": [
    {
     "data": {
      "text/plain": [
       "0    45-54\n",
       "Name: age, dtype: object"
      ]
     },
     "execution_count": 11,
     "metadata": {},
     "output_type": "execute_result"
    }
   ],
   "source": [
    "data['age'].mode()"
   ]
  },
  {
   "cell_type": "code",
   "execution_count": 12,
   "id": "960327d0",
   "metadata": {},
   "outputs": [],
   "source": [
    "data['age'].fillna(data['age'].mode()[0],inplace=True)"
   ]
  },
  {
   "cell_type": "code",
   "execution_count": 13,
   "id": "eed63e86",
   "metadata": {},
   "outputs": [
    {
     "data": {
      "text/plain": [
       "0"
      ]
     },
     "execution_count": 13,
     "metadata": {},
     "output_type": "execute_result"
    }
   ],
   "source": [
    "data['age'].isna().sum()"
   ]
  },
  {
   "cell_type": "code",
   "execution_count": 14,
   "id": "0c282aaa",
   "metadata": {},
   "outputs": [
    {
     "data": {
      "text/plain": [
       "to_inst     95641\n",
       "not_inst    52541\n",
       "Name: submission_of_application, dtype: int64"
      ]
     },
     "execution_count": 14,
     "metadata": {},
     "output_type": "execute_result"
    }
   ],
   "source": [
    "data['submission_of_application'].value_counts()"
   ]
  },
  {
   "cell_type": "code",
   "execution_count": 15,
   "id": "376e0a29",
   "metadata": {},
   "outputs": [],
   "source": [
    "data['submission_of_application'].fillna(data['submission_of_application'].mode()[0],inplace=True)"
   ]
  },
  {
   "cell_type": "code",
   "execution_count": 16,
   "id": "45753603",
   "metadata": {},
   "outputs": [
    {
     "data": {
      "text/plain": [
       "nopre    124398\n",
       "pre       23068\n",
       "Name: approv_in_adv, dtype: int64"
      ]
     },
     "execution_count": 16,
     "metadata": {},
     "output_type": "execute_result"
    }
   ],
   "source": [
    "data['approv_in_adv'].value_counts()"
   ]
  },
  {
   "cell_type": "code",
   "execution_count": 17,
   "id": "7ca2aca4",
   "metadata": {},
   "outputs": [],
   "source": [
    "data['approv_in_adv'].fillna(data['approv_in_adv'].mode()[0],inplace=True)"
   ]
  },
  {
   "cell_type": "code",
   "execution_count": 18,
   "id": "1021586f",
   "metadata": {},
   "outputs": [
    {
     "data": {
      "text/plain": [
       "cf     135072\n",
       "ncf      9958\n",
       "Name: loan_limit, dtype: int64"
      ]
     },
     "execution_count": 18,
     "metadata": {},
     "output_type": "execute_result"
    }
   ],
   "source": [
    "data['loan_limit'].value_counts()"
   ]
  },
  {
   "cell_type": "code",
   "execution_count": 19,
   "id": "88ff49eb",
   "metadata": {},
   "outputs": [],
   "source": [
    "data['loan_limit'].fillna(data['loan_limit'].mode()[0],inplace=True)"
   ]
  },
  {
   "cell_type": "code",
   "execution_count": 20,
   "id": "d95d9310",
   "metadata": {},
   "outputs": [
    {
     "data": {
      "text/plain": [
       "0.0        1259\n",
       "3600.0     1247\n",
       "4200.0     1239\n",
       "4800.0     1188\n",
       "3120.0     1166\n",
       "           ... \n",
       "35340.0       1\n",
       "87720.0       1\n",
       "77760.0       1\n",
       "63120.0       1\n",
       "79920.0       1\n",
       "Name: income, Length: 999, dtype: int64"
      ]
     },
     "execution_count": 20,
     "metadata": {},
     "output_type": "execute_result"
    }
   ],
   "source": [
    "data['income'].value_counts()"
   ]
  },
  {
   "cell_type": "code",
   "execution_count": 21,
   "id": "f953d554",
   "metadata": {},
   "outputs": [
    {
     "data": {
      "text/plain": [
       "6956.4801447932605"
      ]
     },
     "execution_count": 21,
     "metadata": {},
     "output_type": "execute_result"
    }
   ],
   "source": [
    "data['income'].mean()"
   ]
  },
  {
   "cell_type": "code",
   "execution_count": 22,
   "id": "5663a9bb",
   "metadata": {},
   "outputs": [
    {
     "data": {
      "text/plain": [
       "5760.0"
      ]
     },
     "execution_count": 22,
     "metadata": {},
     "output_type": "execute_result"
    }
   ],
   "source": [
    "data['income'].median()"
   ]
  },
  {
   "cell_type": "code",
   "execution_count": 23,
   "id": "0cf0ed1d",
   "metadata": {},
   "outputs": [
    {
     "data": {
      "text/plain": [
       "9141"
      ]
     },
     "execution_count": 23,
     "metadata": {},
     "output_type": "execute_result"
    }
   ],
   "source": [
    "data['income'].isna().sum()"
   ]
  },
  {
   "cell_type": "code",
   "execution_count": 24,
   "id": "19789f26",
   "metadata": {},
   "outputs": [],
   "source": [
    "data['income'].fillna(data['income'].median(),inplace=True)"
   ]
  },
  {
   "cell_type": "code",
   "execution_count": 25,
   "id": "faa9b312",
   "metadata": {},
   "outputs": [
    {
     "data": {
      "text/plain": [
       "308000.0     2787\n",
       "258000.0     2759\n",
       "358000.0     2677\n",
       "408000.0     2533\n",
       "328000.0     2520\n",
       "             ... \n",
       "4758000.0       1\n",
       "2968000.0       1\n",
       "3488000.0       1\n",
       "3018000.0       1\n",
       "2698000.0       1\n",
       "Name: property_value, Length: 383, dtype: int64"
      ]
     },
     "execution_count": 25,
     "metadata": {},
     "output_type": "execute_result"
    }
   ],
   "source": [
    "data['property_value'].value_counts()"
   ]
  },
  {
   "cell_type": "code",
   "execution_count": 26,
   "id": "d571bf6d",
   "metadata": {},
   "outputs": [
    {
     "data": {
      "text/plain": [
       "497925.9637094657"
      ]
     },
     "execution_count": 26,
     "metadata": {},
     "output_type": "execute_result"
    }
   ],
   "source": [
    "data['property_value'].mean()"
   ]
  },
  {
   "cell_type": "code",
   "execution_count": 27,
   "id": "32496875",
   "metadata": {},
   "outputs": [
    {
     "data": {
      "text/plain": [
       "418000.0"
      ]
     },
     "execution_count": 27,
     "metadata": {},
     "output_type": "execute_result"
    }
   ],
   "source": [
    "data['property_value'].median()"
   ]
  },
  {
   "cell_type": "code",
   "execution_count": 28,
   "id": "a49f55de",
   "metadata": {},
   "outputs": [
    {
     "data": {
      "text/plain": [
       "206500     4598\n",
       "256500     4070\n",
       "156500     3958\n",
       "226500     3931\n",
       "486500     3814\n",
       "           ... \n",
       "2206500       1\n",
       "1746500       1\n",
       "2396500       1\n",
       "3576500       1\n",
       "1956500       1\n",
       "Name: loan_amount, Length: 210, dtype: int64"
      ]
     },
     "execution_count": 28,
     "metadata": {},
     "output_type": "execute_result"
    }
   ],
   "source": [
    "data['loan_amount'].value_counts()"
   ]
  },
  {
   "cell_type": "code",
   "execution_count": 29,
   "id": "daef6770",
   "metadata": {},
   "outputs": [
    {
     "data": {
      "text/plain": [
       "loan_amount\n",
       "16500        53000.0\n",
       "26500        58000.0\n",
       "36500        63000.0\n",
       "46500        68000.0\n",
       "56500       108000.0\n",
       "             ...    \n",
       "2926500    4878000.0\n",
       "2986500    5508000.0\n",
       "3006500    5258000.0\n",
       "3346500          NaN\n",
       "3576500    5208000.0\n",
       "Name: property_value, Length: 210, dtype: float64"
      ]
     },
     "execution_count": 29,
     "metadata": {},
     "output_type": "execute_result"
    }
   ],
   "source": [
    "data.groupby('loan_amount')['property_value'].median()"
   ]
  },
  {
   "cell_type": "code",
   "execution_count": 30,
   "id": "011b6abb",
   "metadata": {},
   "outputs": [],
   "source": [
    "from sklearn.impute import KNNImputer"
   ]
  },
  {
   "cell_type": "code",
   "execution_count": 31,
   "id": "49fb5242",
   "metadata": {},
   "outputs": [],
   "source": [
    "impute = KNNImputer(n_neighbors=3)"
   ]
  },
  {
   "cell_type": "code",
   "execution_count": null,
   "id": "6055bd0c",
   "metadata": {},
   "outputs": [],
   "source": [
    "data_loanamount_propertyvalue=data[['loan_amount','property_value']]"
   ]
  },
  {
   "cell_type": "code",
   "execution_count": null,
   "id": "5a2c6429",
   "metadata": {},
   "outputs": [],
   "source": [
    "impute.fit(data_loanamount_propertyvalue)"
   ]
  },
  {
   "cell_type": "code",
   "execution_count": null,
   "id": "8154353f",
   "metadata": {},
   "outputs": [],
   "source": [
    "data_loanamount_propertyvalue_knn=impute.transform(data_loanamount_propertyvalue)"
   ]
  },
  {
   "cell_type": "code",
   "execution_count": null,
   "id": "d73e01fe",
   "metadata": {},
   "outputs": [],
   "source": [
    "data_loanamount_propertyvalue_knn=pd.DataFrame(data_loanamount_propertyvalue_knn, columns= data_loanamount_propertyvalue.columns)"
   ]
  },
  {
   "cell_type": "code",
   "execution_count": null,
   "id": "5d98cd67",
   "metadata": {},
   "outputs": [],
   "source": [
    "data_loanamount_propertyvalue_knn"
   ]
  },
  {
   "cell_type": "code",
   "execution_count": 37,
   "id": "64211e25",
   "metadata": {},
   "outputs": [],
   "source": [
    "data=data.reset_index().drop(columns='index')"
   ]
  },
  {
   "cell_type": "code",
   "execution_count": 38,
   "id": "7b11a2e5",
   "metadata": {},
   "outputs": [
    {
     "data": {
      "text/plain": [
       "0"
      ]
     },
     "execution_count": 38,
     "metadata": {},
     "output_type": "execute_result"
    }
   ],
   "source": [
    "data_loanamount_propertyvalue_knn['property_value'].isna().sum()"
   ]
  },
  {
   "cell_type": "code",
   "execution_count": 39,
   "id": "de2b2d85",
   "metadata": {},
   "outputs": [],
   "source": [
    "data['property_value']=data_loanamount_propertyvalue_knn['property_value']"
   ]
  },
  {
   "cell_type": "code",
   "execution_count": 40,
   "id": "30be24a8",
   "metadata": {},
   "outputs": [
    {
     "data": {
      "text/plain": [
       "0"
      ]
     },
     "execution_count": 40,
     "metadata": {},
     "output_type": "execute_result"
    }
   ],
   "source": [
    "data['property_value'].isna().sum()"
   ]
  },
  {
   "cell_type": "code",
   "execution_count": 41,
   "id": "11ea200a",
   "metadata": {},
   "outputs": [
    {
     "data": {
      "text/plain": [
       "81.250000    529\n",
       "91.666667    498\n",
       "80.038760    379\n",
       "80.032468    328\n",
       "94.956140    322\n",
       "            ... \n",
       "49.776386      1\n",
       "79.847756      1\n",
       "8.230198       1\n",
       "68.562670      1\n",
       "32.802013      1\n",
       "Name: LTV, Length: 8477, dtype: int64"
      ]
     },
     "execution_count": 41,
     "metadata": {},
     "output_type": "execute_result"
    }
   ],
   "source": [
    "data['LTV'].value_counts()"
   ]
  },
  {
   "cell_type": "code",
   "execution_count": 42,
   "id": "a7250f05",
   "metadata": {},
   "outputs": [
    {
     "data": {
      "text/plain": [
       "72.74324363727527"
      ]
     },
     "execution_count": 42,
     "metadata": {},
     "output_type": "execute_result"
    }
   ],
   "source": [
    "data['LTV'].mean()"
   ]
  },
  {
   "cell_type": "code",
   "execution_count": 43,
   "id": "d8e4f8d3",
   "metadata": {},
   "outputs": [
    {
     "data": {
      "text/plain": [
       "75.13586957"
      ]
     },
     "execution_count": 43,
     "metadata": {},
     "output_type": "execute_result"
    }
   ],
   "source": [
    "data['LTV'].median()"
   ]
  },
  {
   "cell_type": "code",
   "execution_count": 44,
   "id": "e4d9d67f",
   "metadata": {},
   "outputs": [],
   "source": [
    "data['LTV'].fillna(data['LTV'].median(),inplace=True)"
   ]
  },
  {
   "cell_type": "code",
   "execution_count": 45,
   "id": "09f76a91",
   "metadata": {},
   "outputs": [
    {
     "data": {
      "text/plain": [
       "37.0    6831\n",
       "36.0    6541\n",
       "44.0    6483\n",
       "49.0    6301\n",
       "43.0    5298\n",
       "42.0    5112\n",
       "41.0    4872\n",
       "40.0    4689\n",
       "39.0    4531\n",
       "38.0    4452\n",
       "45.0    4447\n",
       "48.0    4401\n",
       "30.0    4252\n",
       "47.0    4220\n",
       "31.0    4204\n",
       "46.0    4105\n",
       "35.0    2662\n",
       "33.0    2651\n",
       "32.0    2634\n",
       "34.0    2581\n",
       "20.0    2105\n",
       "24.0    1816\n",
       "29.0    1783\n",
       "22.0    1776\n",
       "28.0    1749\n",
       "23.0    1735\n",
       "26.0    1710\n",
       "27.0    1675\n",
       "25.0    1658\n",
       "21.0    1615\n",
       "54.0     830\n",
       "60.0     829\n",
       "57.0     822\n",
       "59.0     810\n",
       "55.0     794\n",
       "53.0     786\n",
       "51.0     781\n",
       "52.0     776\n",
       "58.0     756\n",
       "50.0     749\n",
       "56.0     745\n",
       "61.0     690\n",
       "16.0     438\n",
       "8.0      433\n",
       "19.0     430\n",
       "13.0     420\n",
       "6.0      418\n",
       "17.0     411\n",
       "11.0     399\n",
       "18.0     396\n",
       "9.0      393\n",
       "14.0     392\n",
       "5.0      386\n",
       "10.0     384\n",
       "12.0     382\n",
       "15.0     381\n",
       "7.0      379\n",
       "Name: dtir1, dtype: int64"
      ]
     },
     "execution_count": 45,
     "metadata": {},
     "output_type": "execute_result"
    }
   ],
   "source": [
    "data['dtir1'].value_counts()"
   ]
  },
  {
   "cell_type": "code",
   "execution_count": 46,
   "id": "fcb1abce",
   "metadata": {},
   "outputs": [
    {
     "data": {
      "text/plain": [
       "37.73260444573166"
      ]
     },
     "execution_count": 46,
     "metadata": {},
     "output_type": "execute_result"
    }
   ],
   "source": [
    "data['dtir1'].mean()"
   ]
  },
  {
   "cell_type": "code",
   "execution_count": 47,
   "id": "75b47924",
   "metadata": {},
   "outputs": [
    {
     "data": {
      "text/plain": [
       "39.0"
      ]
     },
     "execution_count": 47,
     "metadata": {},
     "output_type": "execute_result"
    }
   ],
   "source": [
    "data['dtir1'].median()"
   ]
  },
  {
   "cell_type": "code",
   "execution_count": 48,
   "id": "a237c72e",
   "metadata": {},
   "outputs": [],
   "source": [
    "data['dtir1'].fillna(data['dtir1'].median(),inplace=True)"
   ]
  },
  {
   "cell_type": "code",
   "execution_count": 49,
   "id": "98e5142d",
   "metadata": {},
   "outputs": [
    {
     "data": {
      "text/plain": [
       "4.04499995536073"
      ]
     },
     "execution_count": 49,
     "metadata": {},
     "output_type": "execute_result"
    }
   ],
   "source": [
    "data['rate_of_interest'].mean()"
   ]
  },
  {
   "cell_type": "code",
   "execution_count": 50,
   "id": "15e13f16",
   "metadata": {},
   "outputs": [
    {
     "data": {
      "text/plain": [
       "3.99"
      ]
     },
     "execution_count": 50,
     "metadata": {},
     "output_type": "execute_result"
    }
   ],
   "source": [
    "data['rate_of_interest'].median()"
   ]
  },
  {
   "cell_type": "code",
   "execution_count": 51,
   "id": "c30a3320",
   "metadata": {},
   "outputs": [],
   "source": [
    "data['rate_of_interest'].fillna(data['rate_of_interest'].median(),inplace=True)"
   ]
  },
  {
   "cell_type": "code",
   "execution_count": 52,
   "id": "be866e4b",
   "metadata": {},
   "outputs": [
    {
     "data": {
      "text/plain": [
       "-0.0280    77\n",
       "-0.0380    64\n",
       "-0.0230    60\n",
       "-0.1730    54\n",
       "-0.1480    52\n",
       "           ..\n",
       "-0.4366     1\n",
       "-0.6823     1\n",
       " 1.3921     1\n",
       " 1.6214     1\n",
       "-0.3247     1\n",
       "Name: Interest_rate_spread, Length: 22508, dtype: int64"
      ]
     },
     "execution_count": 52,
     "metadata": {},
     "output_type": "execute_result"
    }
   ],
   "source": [
    "data['Interest_rate_spread'].value_counts()"
   ]
  },
  {
   "cell_type": "code",
   "execution_count": 53,
   "id": "46208dfa",
   "metadata": {},
   "outputs": [
    {
     "data": {
      "text/plain": [
       "0.4415039546759439"
      ]
     },
     "execution_count": 53,
     "metadata": {},
     "output_type": "execute_result"
    }
   ],
   "source": [
    "data['Interest_rate_spread'].mean()"
   ]
  },
  {
   "cell_type": "code",
   "execution_count": 54,
   "id": "6971092e",
   "metadata": {},
   "outputs": [
    {
     "data": {
      "text/plain": [
       "0.3902"
      ]
     },
     "execution_count": 54,
     "metadata": {},
     "output_type": "execute_result"
    }
   ],
   "source": [
    "data['Interest_rate_spread'].median()"
   ]
  },
  {
   "cell_type": "code",
   "execution_count": 55,
   "id": "61206b8f",
   "metadata": {},
   "outputs": [
    {
     "data": {
      "text/plain": [
       "<Axes: >"
      ]
     },
     "execution_count": 55,
     "metadata": {},
     "output_type": "execute_result"
    },
    {
     "data": {
      "image/png": "[encoded data removed]",
      "text/plain": [
       "<Figure size 640x480 with 1 Axes>"
      ]
     },
     "metadata": {},
     "output_type": "display_data"
    }
   ],
   "source": [
    "data['Interest_rate_spread'].plot(kind='box')"
   ]
  },
  {
   "cell_type": "code",
   "execution_count": 56,
   "id": "da4687df",
   "metadata": {},
   "outputs": [],
   "source": [
    "data['Interest_rate_spread'].fillna(data['Interest_rate_spread'].median(),inplace=True)"
   ]
  },
  {
   "cell_type": "code",
   "execution_count": 57,
   "id": "17625cbd",
   "metadata": {},
   "outputs": [
    {
     "data": {
      "text/plain": [
       "0.00       20722\n",
       "1250.00     1182\n",
       "1150.00      891\n",
       "795.00       484\n",
       "295.00       403\n",
       "           ...  \n",
       "1783.74        1\n",
       "2966.60        1\n",
       "2591.15        1\n",
       "4447.72        1\n",
       "4323.33        1\n",
       "Name: Upfront_charges, Length: 58178, dtype: int64"
      ]
     },
     "execution_count": 57,
     "metadata": {},
     "output_type": "execute_result"
    }
   ],
   "source": [
    "data['Upfront_charges'].value_counts()"
   ]
  },
  {
   "cell_type": "code",
   "execution_count": 58,
   "id": "e75a8579",
   "metadata": {},
   "outputs": [
    {
     "data": {
      "text/plain": [
       "3226.347108249933"
      ]
     },
     "execution_count": 58,
     "metadata": {},
     "output_type": "execute_result"
    }
   ],
   "source": [
    "data['Upfront_charges'].mean()"
   ]
  },
  {
   "cell_type": "code",
   "execution_count": 59,
   "id": "aac50963",
   "metadata": {},
   "outputs": [
    {
     "data": {
      "text/plain": [
       "2597.35"
      ]
     },
     "execution_count": 59,
     "metadata": {},
     "output_type": "execute_result"
    }
   ],
   "source": [
    "data['Upfront_charges'].median()"
   ]
  },
  {
   "cell_type": "code",
   "execution_count": 60,
   "id": "a26af122",
   "metadata": {},
   "outputs": [
    {
     "data": {
      "text/plain": [
       "Credit_Score\n",
       "500    3371.573293\n",
       "501    3110.354160\n",
       "502    3020.502421\n",
       "503    3460.761510\n",
       "504    3097.841345\n",
       "          ...     \n",
       "896    3363.671702\n",
       "897    3378.118873\n",
       "898    3282.606341\n",
       "899    3298.123067\n",
       "900    2745.269382\n",
       "Name: Upfront_charges, Length: 401, dtype: float64"
      ]
     },
     "execution_count": 60,
     "metadata": {},
     "output_type": "execute_result"
    }
   ],
   "source": [
    "data.groupby('Credit_Score')['Upfront_charges'].mean()"
   ]
  },
  {
   "cell_type": "code",
   "execution_count": 61,
   "id": "04d81299",
   "metadata": {},
   "outputs": [
    {
     "data": {
      "text/plain": [
       "<Axes: >"
      ]
     },
     "execution_count": 61,
     "metadata": {},
     "output_type": "execute_result"
    },
    {
     "data": {
      "image/png": "[encoded data removed]",
      "text/plain": [
       "<Figure size 640x480 with 1 Axes>"
      ]
     },
     "metadata": {},
     "output_type": "display_data"
    }
   ],
   "source": [
    "data['Credit_Score'].plot(kind='box')"
   ]
  },
  {
   "cell_type": "code",
   "execution_count": 62,
   "id": "86a5b4f1",
   "metadata": {},
   "outputs": [],
   "source": [
    "data['Upfront_charges']=data.groupby('Credit_Score')['Upfront_charges'].transform(lambda x:x.fillna(x.mean()))"
   ]
  },
  {
   "cell_type": "code",
   "execution_count": 63,
   "id": "7023d247",
   "metadata": {},
   "outputs": [
    {
     "data": {
      "text/plain": [
       "year                         0\n",
       "loan_limit                   0\n",
       "Gender                       0\n",
       "approv_in_adv                0\n",
       "loan_type                    0\n",
       "loan_purpose                 0\n",
       "Credit_Worthiness            0\n",
       "open_credit                  0\n",
       "business_or_commercial       0\n",
       "loan_amount                  0\n",
       "rate_of_interest             0\n",
       "Interest_rate_spread         0\n",
       "Upfront_charges              0\n",
       "term                         0\n",
       "Neg_ammortization            0\n",
       "interest_only                0\n",
       "lump_sum_payment             0\n",
       "property_value               0\n",
       "construction_type            0\n",
       "occupancy_type               0\n",
       "Secured_by                   0\n",
       "total_units                  0\n",
       "income                       0\n",
       "credit_type                  0\n",
       "Credit_Score                 0\n",
       "co-applicant_credit_type     0\n",
       "age                          0\n",
       "submission_of_application    0\n",
       "LTV                          0\n",
       "Region                       0\n",
       "Security_Type                0\n",
       "Status                       0\n",
       "dtir1                        0\n",
       "dtype: int64"
      ]
     },
     "execution_count": 63,
     "metadata": {},
     "output_type": "execute_result"
    }
   ],
   "source": [
    "data.isna().sum()"
   ]
  },
  {
   "cell_type": "code",
   "execution_count": 64,
   "id": "e6fc9513",
   "metadata": {},
   "outputs": [
    {
     "data": {
      "text/plain": [
       "array(['Sex Not Available', 'Male', 'Joint', 'Female'], dtype=object)"
      ]
     },
     "execution_count": 64,
     "metadata": {},
     "output_type": "execute_result"
    }
   ],
   "source": [
    "data['Gender'].unique()"
   ]
  },
  {
   "cell_type": "code",
   "execution_count": 65,
   "id": "0e80293e",
   "metadata": {},
   "outputs": [
    {
     "data": {
      "text/plain": [
       "Male                 42255\n",
       "Joint                41319\n",
       "Sex Not Available    37589\n",
       "Female               27211\n",
       "Name: Gender, dtype: int64"
      ]
     },
     "execution_count": 65,
     "metadata": {},
     "output_type": "execute_result"
    }
   ],
   "source": [
    "data['Gender'].value_counts()"
   ]
  },
  {
   "cell_type": "code",
   "execution_count": 66,
   "id": "fc7a63b7",
   "metadata": {},
   "outputs": [],
   "source": [
    "data['Gender'].replace({'Sex Not Available':data['Gender'].mode()[0]},inplace=True)"
   ]
  },
  {
   "cell_type": "code",
   "execution_count": 67,
   "id": "f2771b45",
   "metadata": {},
   "outputs": [
    {
     "data": {
      "text/plain": [
       "array(['Male', 'Joint', 'Female'], dtype=object)"
      ]
     },
     "execution_count": 67,
     "metadata": {},
     "output_type": "execute_result"
    }
   ],
   "source": [
    "data['Gender'].unique()"
   ]
  },
  {
   "cell_type": "code",
   "execution_count": 68,
   "id": "8b857690",
   "metadata": {},
   "outputs": [
    {
     "data": {
      "text/plain": [
       "type1    112940\n",
       "type2     20719\n",
       "type3     14715\n",
       "Name: loan_type, dtype: int64"
      ]
     },
     "execution_count": 68,
     "metadata": {},
     "output_type": "execute_result"
    }
   ],
   "source": [
    "data['loan_type'].value_counts()"
   ]
  },
  {
   "cell_type": "code",
   "execution_count": 69,
   "id": "d1773153",
   "metadata": {},
   "outputs": [
    {
     "data": {
      "text/plain": [
       "array(['l1', 'l2'], dtype=object)"
      ]
     },
     "execution_count": 69,
     "metadata": {},
     "output_type": "execute_result"
    }
   ],
   "source": [
    "data['Credit_Worthiness'].unique()"
   ]
  },
  {
   "cell_type": "code",
   "execution_count": 70,
   "id": "235dc03e",
   "metadata": {},
   "outputs": [
    {
     "data": {
      "text/plain": [
       "array(['nopc', 'opc'], dtype=object)"
      ]
     },
     "execution_count": 70,
     "metadata": {},
     "output_type": "execute_result"
    }
   ],
   "source": [
    "data['open_credit'].unique()"
   ]
  },
  {
   "cell_type": "code",
   "execution_count": 71,
   "id": "85797855",
   "metadata": {},
   "outputs": [
    {
     "data": {
      "text/plain": [
       "nob/c    127655\n",
       "b/c       20719\n",
       "Name: business_or_commercial, dtype: int64"
      ]
     },
     "execution_count": 71,
     "metadata": {},
     "output_type": "execute_result"
    }
   ],
   "source": [
    "data['business_or_commercial'].value_counts()"
   ]
  },
  {
   "cell_type": "code",
   "execution_count": 72,
   "id": "1655d1f6",
   "metadata": {},
   "outputs": [
    {
     "data": {
      "text/plain": [
       "array([360., 300., 180., 312., 144., 240., 348., 324., 120.,  96., 192.,\n",
       "       156., 228., 336., 288., 108., 276., 132., 216., 168., 204., 264.,\n",
       "       252., 165., 280., 322.])"
      ]
     },
     "execution_count": 72,
     "metadata": {},
     "output_type": "execute_result"
    }
   ],
   "source": [
    "data['term'].unique()"
   ]
  },
  {
   "cell_type": "code",
   "execution_count": 73,
   "id": "2807ab40",
   "metadata": {},
   "outputs": [
    {
     "data": {
      "text/plain": [
       "array(['not_neg', 'neg_amm'], dtype=object)"
      ]
     },
     "execution_count": 73,
     "metadata": {},
     "output_type": "execute_result"
    }
   ],
   "source": [
    "data['Neg_ammortization'].unique()"
   ]
  },
  {
   "cell_type": "code",
   "execution_count": 74,
   "id": "71daedd7",
   "metadata": {},
   "outputs": [
    {
     "data": {
      "text/plain": [
       "array(['not_lpsm', 'lpsm'], dtype=object)"
      ]
     },
     "execution_count": 74,
     "metadata": {},
     "output_type": "execute_result"
    }
   ],
   "source": [
    "data['lump_sum_payment'].unique()"
   ]
  },
  {
   "cell_type": "code",
   "execution_count": 75,
   "id": "f9580133",
   "metadata": {},
   "outputs": [
    {
     "name": "stdout",
     "output_type": "stream",
     "text": [
      "year\n",
      "Series([], Name: year, dtype: int64)\n",
      "loan_amount\n",
      "44         866500\n",
      "108        906500\n",
      "137       1376500\n",
      "199        826500\n",
      "227        986500\n",
      "           ...   \n",
      "148150     876500\n",
      "148153     836500\n",
      "148173    1006500\n",
      "148230    1106500\n",
      "148282     986500\n",
      "Name: loan_amount, Length: 1888, dtype: int64\n",
      "rate_of_interest\n",
      "20        2.99\n",
      "27        5.25\n",
      "31        2.99\n",
      "48        2.75\n",
      "51        2.99\n",
      "          ... \n",
      "148263    2.75\n",
      "148299    5.25\n",
      "148328    5.50\n",
      "148359    5.99\n",
      "148370    5.19\n",
      "Name: rate_of_interest, Length: 6806, dtype: float64\n",
      "Interest_rate_spread\n",
      "30        1.4614\n",
      "31       -0.6203\n",
      "35        1.3774\n",
      "48       -0.7794\n",
      "63        1.5693\n",
      "           ...  \n",
      "148292    1.4657\n",
      "148351    1.3253\n",
      "148359    1.4300\n",
      "148368    1.4015\n",
      "148373    1.3871\n",
      "Name: Interest_rate_spread, Length: 11451, dtype: float64\n",
      "Upfront_charges\n",
      "20        10470.00\n",
      "37        13016.46\n",
      "46        12283.66\n",
      "54        14690.09\n",
      "79         9323.75\n",
      "            ...   \n",
      "148323     9071.13\n",
      "148334     9720.00\n",
      "148340     7909.81\n",
      "148346     9000.00\n",
      "148369     9960.00\n",
      "Name: Upfront_charges, Length: 8897, dtype: float64\n",
      "term\n",
      "10        300.0\n",
      "20        180.0\n",
      "38        180.0\n",
      "50        312.0\n",
      "51        180.0\n",
      "          ...  \n",
      "148356    180.0\n",
      "148369    180.0\n",
      "148371    180.0\n",
      "148372    180.0\n",
      "148373    240.0\n",
      "Name: term, Length: 26923, dtype: float64\n",
      "property_value\n",
      "44        1508000.0\n",
      "74        1198000.0\n",
      "80        1308000.0\n",
      "89        2008000.0\n",
      "91        3408000.0\n",
      "            ...    \n",
      "148280    1558000.0\n",
      "148281    1408000.0\n",
      "148282    1408000.0\n",
      "148304    1908000.0\n",
      "148343    1788000.0\n",
      "Name: property_value, Length: 6306, dtype: float64\n",
      "income\n",
      "20        16860.0\n",
      "54        22500.0\n",
      "82        15180.0\n",
      "107       17340.0\n",
      "129       15240.0\n",
      "           ...   \n",
      "148202    51000.0\n",
      "148230    15480.0\n",
      "148238    15780.0\n",
      "148304    21240.0\n",
      "148361    15360.0\n",
      "Name: income, Length: 7619, dtype: float64\n",
      "Credit_Score\n",
      "Series([], Name: Credit_Score, dtype: int64)\n",
      "LTV\n",
      "51         29.166667\n",
      "55          9.124473\n",
      "89          2.813745\n",
      "91         10.167254\n",
      "128        17.233010\n",
      "             ...    \n",
      "148081     18.096234\n",
      "148102    121.022727\n",
      "148188     18.528817\n",
      "148266    151.814516\n",
      "148304     23.401468\n",
      "Name: LTV, Length: 4657, dtype: float64\n",
      "Status\n",
      "0         1\n",
      "1         1\n",
      "10        1\n",
      "12        1\n",
      "15        1\n",
      "         ..\n",
      "148355    1\n",
      "148356    1\n",
      "148362    1\n",
      "148365    1\n",
      "148367    1\n",
      "Name: Status, Length: 36557, dtype: int64\n",
      "dtir1\n",
      "20         6.0\n",
      "56        11.0\n",
      "105       10.0\n",
      "119       15.0\n",
      "126        7.0\n",
      "          ... \n",
      "148238    10.0\n",
      "148303    61.0\n",
      "148304    16.0\n",
      "148354    10.0\n",
      "148370    15.0\n",
      "Name: dtir1, Length: 5495, dtype: float64\n"
     ]
    }
   ],
   "source": [
    "for col_name in data.select_dtypes(include=np.number).columns[:]:\n",
    "    print(col_name)\n",
    "    q1=data[col_name].quantile(.25)\n",
    "    q3=data[col_name].quantile(.75)\n",
    "    iqr=(q3-q1)\n",
    "    low=q1-(1.5*iqr)\n",
    "    high=q3+(1.5*iqr)\n",
    "    print(data.loc[(data[col_name]<low) | (data[col_name]>high),col_name])"
   ]
  },
  {
   "cell_type": "code",
   "execution_count": 76,
   "id": "fd1e5fbd",
   "metadata": {},
   "outputs": [
    {
     "data": {
      "text/plain": [
       "array([ 98.72881356,  75.13586957,  80.01968504, ..., 151.8145161 ,\n",
       "        41.49550706,  32.80201342])"
      ]
     },
     "execution_count": 76,
     "metadata": {},
     "output_type": "execute_result"
    }
   ],
   "source": [
    "data['LTV'].unique()"
   ]
  },
  {
   "cell_type": "code",
   "execution_count": 77,
   "id": "e30d4064",
   "metadata": {},
   "outputs": [],
   "source": [
    "data_only_numbers=data.select_dtypes(include=np.number)"
   ]
  },
  {
   "cell_type": "code",
   "execution_count": 78,
   "id": "be9cb075",
   "metadata": {},
   "outputs": [],
   "source": [
    "data_only_numbers=data_only_numbers.drop(columns='year')"
   ]
  },
  {
   "cell_type": "code",
   "execution_count": 79,
   "id": "6c559a4f",
   "metadata": {},
   "outputs": [],
   "source": [
    "scaling = StandardScaler()\n",
    "data_scale = pd.DataFrame(scaling.fit_transform(data_only_numbers), columns = data_only_numbers.columns )"
   ]
  },
  {
   "cell_type": "code",
   "execution_count": 80,
   "id": "2134517f",
   "metadata": {},
   "outputs": [
    {
     "data": {
      "text/html": [
       "<div>\n",
       "<style scoped>\n",
       "    .dataframe tbody tr th:only-of-type {\n",
       "        vertical-align: middle;\n",
       "    }\n",
       "\n",
       "    .dataframe tbody tr th {\n",
       "        vertical-align: top;\n",
       "    }\n",
       "\n",
       "    .dataframe thead th {\n",
       "        text-align: right;\n",
       "    }\n",
       "</style>\n",
       "<table border=\"1\" class=\"dataframe\">\n",
       "  <thead>\n",
       "    <tr style=\"text-align: right;\">\n",
       "      <th></th>\n",
       "      <th>loan_amount</th>\n",
       "      <th>rate_of_interest</th>\n",
       "      <th>Interest_rate_spread</th>\n",
       "      <th>Upfront_charges</th>\n",
       "      <th>term</th>\n",
       "      <th>property_value</th>\n",
       "      <th>income</th>\n",
       "      <th>Credit_Score</th>\n",
       "      <th>LTV</th>\n",
       "      <th>Status</th>\n",
       "      <th>dtir1</th>\n",
       "    </tr>\n",
       "  </thead>\n",
       "  <tbody>\n",
       "    <tr>\n",
       "      <th>0</th>\n",
       "      <td>-1.167557</td>\n",
       "      <td>-0.085014</td>\n",
       "      <td>-0.086698</td>\n",
       "      <td>-0.017343</td>\n",
       "      <td>0.425919</td>\n",
       "      <td>-1.065629</td>\n",
       "      <td>-0.816282</td>\n",
       "      <td>0.502534</td>\n",
       "      <td>0.678905</td>\n",
       "      <td>1.748915</td>\n",
       "      <td>0.730828</td>\n",
       "    </tr>\n",
       "    <tr>\n",
       "      <th>1</th>\n",
       "      <td>-0.677950</td>\n",
       "      <td>-0.085014</td>\n",
       "      <td>-0.086698</td>\n",
       "      <td>-0.004606</td>\n",
       "      <td>0.425919</td>\n",
       "      <td>-0.276110</td>\n",
       "      <td>-0.302016</td>\n",
       "      <td>-1.275368</td>\n",
       "      <td>0.056695</td>\n",
       "      <td>1.748915</td>\n",
       "      <td>0.109882</td>\n",
       "    </tr>\n",
       "    <tr>\n",
       "      <th>2</th>\n",
       "      <td>0.410064</td>\n",
       "      <td>1.082081</td>\n",
       "      <td>-0.513198</td>\n",
       "      <td>-0.944224</td>\n",
       "      <td>0.425919</td>\n",
       "      <td>0.021121</td>\n",
       "      <td>0.412244</td>\n",
       "      <td>1.158460</td>\n",
       "      <td>0.185494</td>\n",
       "      <td>-0.571783</td>\n",
       "      <td>0.834319</td>\n",
       "    </tr>\n",
       "    <tr>\n",
       "      <th>3</th>\n",
       "      <td>0.682068</td>\n",
       "      <td>0.447345</td>\n",
       "      <td>0.565385</td>\n",
       "      <td>-0.072504</td>\n",
       "      <td>0.425919</td>\n",
       "      <td>0.439101</td>\n",
       "      <td>0.793182</td>\n",
       "      <td>-0.973297</td>\n",
       "      <td>-0.095185</td>\n",
       "      <td>-0.571783</td>\n",
       "      <td>0.420355</td>\n",
       "    </tr>\n",
       "    <tr>\n",
       "      <th>4</th>\n",
       "      <td>1.987685</td>\n",
       "      <td>-0.064538</td>\n",
       "      <td>-0.279542</td>\n",
       "      <td>-1.157706</td>\n",
       "      <td>0.425919</td>\n",
       "      <td>0.717755</td>\n",
       "      <td>0.564619</td>\n",
       "      <td>-0.843838</td>\n",
       "      <td>0.498455</td>\n",
       "      <td>-0.571783</td>\n",
       "      <td>0.109882</td>\n",
       "    </tr>\n",
       "    <tr>\n",
       "      <th>...</th>\n",
       "      <td>...</td>\n",
       "      <td>...</td>\n",
       "      <td>...</td>\n",
       "      <td>...</td>\n",
       "      <td>...</td>\n",
       "      <td>...</td>\n",
       "      <td>...</td>\n",
       "      <td>...</td>\n",
       "      <td>...</td>\n",
       "      <td>...</td>\n",
       "      <td>...</td>\n",
       "    </tr>\n",
       "    <tr>\n",
       "      <th>148369</th>\n",
       "      <td>0.573266</td>\n",
       "      <td>-1.856132</td>\n",
       "      <td>-0.385158</td>\n",
       "      <td>2.415881</td>\n",
       "      <td>-2.654656</td>\n",
       "      <td>0.299774</td>\n",
       "      <td>0.155111</td>\n",
       "      <td>-0.351894</td>\n",
       "      <td>-0.031472</td>\n",
       "      <td>-0.571783</td>\n",
       "      <td>1.041301</td>\n",
       "    </tr>\n",
       "    <tr>\n",
       "      <th>148370</th>\n",
       "      <td>1.389277</td>\n",
       "      <td>2.372029</td>\n",
       "      <td>0.954213</td>\n",
       "      <td>-1.157706</td>\n",
       "      <td>0.425919</td>\n",
       "      <td>0.801351</td>\n",
       "      <td>0.040829</td>\n",
       "      <td>-1.128648</td>\n",
       "      <td>0.038051</td>\n",
       "      <td>-0.571783</td>\n",
       "      <td>-2.373903</td>\n",
       "    </tr>\n",
       "    <tr>\n",
       "      <th>148371</th>\n",
       "      <td>0.627667</td>\n",
       "      <td>-1.856132</td>\n",
       "      <td>-0.778695</td>\n",
       "      <td>-0.717595</td>\n",
       "      <td>-2.654656</td>\n",
       "      <td>0.634159</td>\n",
       "      <td>0.002735</td>\n",
       "      <td>0.019221</td>\n",
       "      <td>-0.307339</td>\n",
       "      <td>-0.571783</td>\n",
       "      <td>1.144792</td>\n",
       "    </tr>\n",
       "    <tr>\n",
       "      <th>148372</th>\n",
       "      <td>-0.732351</td>\n",
       "      <td>-1.088306</td>\n",
       "      <td>0.344287</td>\n",
       "      <td>0.393478</td>\n",
       "      <td>-2.654656</td>\n",
       "      <td>-0.619783</td>\n",
       "      <td>0.040829</td>\n",
       "      <td>0.321292</td>\n",
       "      <td>-0.060727</td>\n",
       "      <td>-0.571783</td>\n",
       "      <td>-0.925029</td>\n",
       "    </tr>\n",
       "    <tr>\n",
       "      <th>148373</th>\n",
       "      <td>0.410064</td>\n",
       "      <td>0.703287</td>\n",
       "      <td>2.148727</td>\n",
       "      <td>0.995057</td>\n",
       "      <td>-1.627797</td>\n",
       "      <td>0.160447</td>\n",
       "      <td>0.059876</td>\n",
       "      <td>1.123937</td>\n",
       "      <td>-0.003604</td>\n",
       "      <td>-0.571783</td>\n",
       "      <td>0.627337</td>\n",
       "    </tr>\n",
       "  </tbody>\n",
       "</table>\n",
       "<p>148374 rows × 11 columns</p>\n",
       "</div>"
      ],
      "text/plain": [
       "        loan_amount  rate_of_interest  Interest_rate_spread  Upfront_charges  \\\n",
       "0         -1.167557         -0.085014             -0.086698        -0.017343   \n",
       "1         -0.677950         -0.085014             -0.086698        -0.004606   \n",
       "2          0.410064          1.082081             -0.513198        -0.944224   \n",
       "3          0.682068          0.447345              0.565385        -0.072504   \n",
       "4          1.987685         -0.064538             -0.279542        -1.157706   \n",
       "...             ...               ...                   ...              ...   \n",
       "148369     0.573266         -1.856132             -0.385158         2.415881   \n",
       "148370     1.389277          2.372029              0.954213        -1.157706   \n",
       "148371     0.627667         -1.856132             -0.778695        -0.717595   \n",
       "148372    -0.732351         -1.088306              0.344287         0.393478   \n",
       "148373     0.410064          0.703287              2.148727         0.995057   \n",
       "\n",
       "            term  property_value    income  Credit_Score       LTV    Status  \\\n",
       "0       0.425919       -1.065629 -0.816282      0.502534  0.678905  1.748915   \n",
       "1       0.425919       -0.276110 -0.302016     -1.275368  0.056695  1.748915   \n",
       "2       0.425919        0.021121  0.412244      1.158460  0.185494 -0.571783   \n",
       "3       0.425919        0.439101  0.793182     -0.973297 -0.095185 -0.571783   \n",
       "4       0.425919        0.717755  0.564619     -0.843838  0.498455 -0.571783   \n",
       "...          ...             ...       ...           ...       ...       ...   \n",
       "148369 -2.654656        0.299774  0.155111     -0.351894 -0.031472 -0.571783   \n",
       "148370  0.425919        0.801351  0.040829     -1.128648  0.038051 -0.571783   \n",
       "148371 -2.654656        0.634159  0.002735      0.019221 -0.307339 -0.571783   \n",
       "148372 -2.654656       -0.619783  0.040829      0.321292 -0.060727 -0.571783   \n",
       "148373 -1.627797        0.160447  0.059876      1.123937 -0.003604 -0.571783   \n",
       "\n",
       "           dtir1  \n",
       "0       0.730828  \n",
       "1       0.109882  \n",
       "2       0.834319  \n",
       "3       0.420355  \n",
       "4       0.109882  \n",
       "...          ...  \n",
       "148369  1.041301  \n",
       "148370 -2.373903  \n",
       "148371  1.144792  \n",
       "148372 -0.925029  \n",
       "148373  0.627337  \n",
       "\n",
       "[148374 rows x 11 columns]"
      ]
     },
     "execution_count": 80,
     "metadata": {},
     "output_type": "execute_result"
    }
   ],
   "source": [
    "data_scale"
   ]
  },
  {
   "cell_type": "code",
   "execution_count": 81,
   "id": "353a87a6",
   "metadata": {},
   "outputs": [],
   "source": [
    "data_only_cat=data.select_dtypes(exclude=np.number)"
   ]
  },
  {
   "cell_type": "code",
   "execution_count": 82,
   "id": "76096028",
   "metadata": {},
   "outputs": [
    {
     "data": {
      "text/html": [
       "<div>\n",
       "<style scoped>\n",
       "    .dataframe tbody tr th:only-of-type {\n",
       "        vertical-align: middle;\n",
       "    }\n",
       "\n",
       "    .dataframe tbody tr th {\n",
       "        vertical-align: top;\n",
       "    }\n",
       "\n",
       "    .dataframe thead th {\n",
       "        text-align: right;\n",
       "    }\n",
       "</style>\n",
       "<table border=\"1\" class=\"dataframe\">\n",
       "  <thead>\n",
       "    <tr style=\"text-align: right;\">\n",
       "      <th></th>\n",
       "      <th>loan_limit</th>\n",
       "      <th>Gender</th>\n",
       "      <th>approv_in_adv</th>\n",
       "      <th>loan_type</th>\n",
       "      <th>loan_purpose</th>\n",
       "      <th>Credit_Worthiness</th>\n",
       "      <th>open_credit</th>\n",
       "      <th>business_or_commercial</th>\n",
       "      <th>Neg_ammortization</th>\n",
       "      <th>interest_only</th>\n",
       "      <th>...</th>\n",
       "      <th>construction_type</th>\n",
       "      <th>occupancy_type</th>\n",
       "      <th>Secured_by</th>\n",
       "      <th>total_units</th>\n",
       "      <th>credit_type</th>\n",
       "      <th>co-applicant_credit_type</th>\n",
       "      <th>age</th>\n",
       "      <th>submission_of_application</th>\n",
       "      <th>Region</th>\n",
       "      <th>Security_Type</th>\n",
       "    </tr>\n",
       "  </thead>\n",
       "  <tbody>\n",
       "    <tr>\n",
       "      <th>0</th>\n",
       "      <td>cf</td>\n",
       "      <td>Male</td>\n",
       "      <td>nopre</td>\n",
       "      <td>type1</td>\n",
       "      <td>p1</td>\n",
       "      <td>l1</td>\n",
       "      <td>nopc</td>\n",
       "      <td>nob/c</td>\n",
       "      <td>not_neg</td>\n",
       "      <td>not_int</td>\n",
       "      <td>...</td>\n",
       "      <td>sb</td>\n",
       "      <td>pr</td>\n",
       "      <td>home</td>\n",
       "      <td>1U</td>\n",
       "      <td>EXP</td>\n",
       "      <td>CIB</td>\n",
       "      <td>25-34</td>\n",
       "      <td>to_inst</td>\n",
       "      <td>south</td>\n",
       "      <td>direct</td>\n",
       "    </tr>\n",
       "    <tr>\n",
       "      <th>1</th>\n",
       "      <td>cf</td>\n",
       "      <td>Male</td>\n",
       "      <td>nopre</td>\n",
       "      <td>type2</td>\n",
       "      <td>p1</td>\n",
       "      <td>l1</td>\n",
       "      <td>nopc</td>\n",
       "      <td>b/c</td>\n",
       "      <td>not_neg</td>\n",
       "      <td>not_int</td>\n",
       "      <td>...</td>\n",
       "      <td>sb</td>\n",
       "      <td>pr</td>\n",
       "      <td>home</td>\n",
       "      <td>1U</td>\n",
       "      <td>EQUI</td>\n",
       "      <td>EXP</td>\n",
       "      <td>55-64</td>\n",
       "      <td>to_inst</td>\n",
       "      <td>North</td>\n",
       "      <td>direct</td>\n",
       "    </tr>\n",
       "    <tr>\n",
       "      <th>2</th>\n",
       "      <td>cf</td>\n",
       "      <td>Male</td>\n",
       "      <td>pre</td>\n",
       "      <td>type1</td>\n",
       "      <td>p1</td>\n",
       "      <td>l1</td>\n",
       "      <td>nopc</td>\n",
       "      <td>nob/c</td>\n",
       "      <td>neg_amm</td>\n",
       "      <td>not_int</td>\n",
       "      <td>...</td>\n",
       "      <td>sb</td>\n",
       "      <td>pr</td>\n",
       "      <td>home</td>\n",
       "      <td>1U</td>\n",
       "      <td>EXP</td>\n",
       "      <td>CIB</td>\n",
       "      <td>35-44</td>\n",
       "      <td>to_inst</td>\n",
       "      <td>south</td>\n",
       "      <td>direct</td>\n",
       "    </tr>\n",
       "    <tr>\n",
       "      <th>3</th>\n",
       "      <td>cf</td>\n",
       "      <td>Male</td>\n",
       "      <td>nopre</td>\n",
       "      <td>type1</td>\n",
       "      <td>p4</td>\n",
       "      <td>l1</td>\n",
       "      <td>nopc</td>\n",
       "      <td>nob/c</td>\n",
       "      <td>not_neg</td>\n",
       "      <td>not_int</td>\n",
       "      <td>...</td>\n",
       "      <td>sb</td>\n",
       "      <td>pr</td>\n",
       "      <td>home</td>\n",
       "      <td>1U</td>\n",
       "      <td>EXP</td>\n",
       "      <td>CIB</td>\n",
       "      <td>45-54</td>\n",
       "      <td>not_inst</td>\n",
       "      <td>North</td>\n",
       "      <td>direct</td>\n",
       "    </tr>\n",
       "    <tr>\n",
       "      <th>4</th>\n",
       "      <td>cf</td>\n",
       "      <td>Joint</td>\n",
       "      <td>pre</td>\n",
       "      <td>type1</td>\n",
       "      <td>p1</td>\n",
       "      <td>l1</td>\n",
       "      <td>nopc</td>\n",
       "      <td>nob/c</td>\n",
       "      <td>not_neg</td>\n",
       "      <td>not_int</td>\n",
       "      <td>...</td>\n",
       "      <td>sb</td>\n",
       "      <td>pr</td>\n",
       "      <td>home</td>\n",
       "      <td>1U</td>\n",
       "      <td>CRIF</td>\n",
       "      <td>EXP</td>\n",
       "      <td>25-34</td>\n",
       "      <td>not_inst</td>\n",
       "      <td>North</td>\n",
       "      <td>direct</td>\n",
       "    </tr>\n",
       "    <tr>\n",
       "      <th>...</th>\n",
       "      <td>...</td>\n",
       "      <td>...</td>\n",
       "      <td>...</td>\n",
       "      <td>...</td>\n",
       "      <td>...</td>\n",
       "      <td>...</td>\n",
       "      <td>...</td>\n",
       "      <td>...</td>\n",
       "      <td>...</td>\n",
       "      <td>...</td>\n",
       "      <td>...</td>\n",
       "      <td>...</td>\n",
       "      <td>...</td>\n",
       "      <td>...</td>\n",
       "      <td>...</td>\n",
       "      <td>...</td>\n",
       "      <td>...</td>\n",
       "      <td>...</td>\n",
       "      <td>...</td>\n",
       "      <td>...</td>\n",
       "      <td>...</td>\n",
       "    </tr>\n",
       "    <tr>\n",
       "      <th>148369</th>\n",
       "      <td>cf</td>\n",
       "      <td>Male</td>\n",
       "      <td>nopre</td>\n",
       "      <td>type1</td>\n",
       "      <td>p3</td>\n",
       "      <td>l1</td>\n",
       "      <td>nopc</td>\n",
       "      <td>nob/c</td>\n",
       "      <td>not_neg</td>\n",
       "      <td>not_int</td>\n",
       "      <td>...</td>\n",
       "      <td>sb</td>\n",
       "      <td>pr</td>\n",
       "      <td>home</td>\n",
       "      <td>1U</td>\n",
       "      <td>CIB</td>\n",
       "      <td>EXP</td>\n",
       "      <td>55-64</td>\n",
       "      <td>to_inst</td>\n",
       "      <td>south</td>\n",
       "      <td>direct</td>\n",
       "    </tr>\n",
       "    <tr>\n",
       "      <th>148370</th>\n",
       "      <td>cf</td>\n",
       "      <td>Male</td>\n",
       "      <td>nopre</td>\n",
       "      <td>type1</td>\n",
       "      <td>p1</td>\n",
       "      <td>l1</td>\n",
       "      <td>nopc</td>\n",
       "      <td>nob/c</td>\n",
       "      <td>not_neg</td>\n",
       "      <td>not_int</td>\n",
       "      <td>...</td>\n",
       "      <td>sb</td>\n",
       "      <td>ir</td>\n",
       "      <td>home</td>\n",
       "      <td>4U</td>\n",
       "      <td>CIB</td>\n",
       "      <td>CIB</td>\n",
       "      <td>25-34</td>\n",
       "      <td>not_inst</td>\n",
       "      <td>south</td>\n",
       "      <td>direct</td>\n",
       "    </tr>\n",
       "    <tr>\n",
       "      <th>148371</th>\n",
       "      <td>cf</td>\n",
       "      <td>Male</td>\n",
       "      <td>nopre</td>\n",
       "      <td>type1</td>\n",
       "      <td>p4</td>\n",
       "      <td>l1</td>\n",
       "      <td>nopc</td>\n",
       "      <td>nob/c</td>\n",
       "      <td>not_neg</td>\n",
       "      <td>not_int</td>\n",
       "      <td>...</td>\n",
       "      <td>sb</td>\n",
       "      <td>pr</td>\n",
       "      <td>home</td>\n",
       "      <td>1U</td>\n",
       "      <td>CIB</td>\n",
       "      <td>EXP</td>\n",
       "      <td>45-54</td>\n",
       "      <td>not_inst</td>\n",
       "      <td>North</td>\n",
       "      <td>direct</td>\n",
       "    </tr>\n",
       "    <tr>\n",
       "      <th>148372</th>\n",
       "      <td>cf</td>\n",
       "      <td>Female</td>\n",
       "      <td>nopre</td>\n",
       "      <td>type1</td>\n",
       "      <td>p4</td>\n",
       "      <td>l1</td>\n",
       "      <td>nopc</td>\n",
       "      <td>nob/c</td>\n",
       "      <td>not_neg</td>\n",
       "      <td>not_int</td>\n",
       "      <td>...</td>\n",
       "      <td>sb</td>\n",
       "      <td>pr</td>\n",
       "      <td>home</td>\n",
       "      <td>1U</td>\n",
       "      <td>EXP</td>\n",
       "      <td>EXP</td>\n",
       "      <td>55-64</td>\n",
       "      <td>to_inst</td>\n",
       "      <td>North</td>\n",
       "      <td>direct</td>\n",
       "    </tr>\n",
       "    <tr>\n",
       "      <th>148373</th>\n",
       "      <td>cf</td>\n",
       "      <td>Female</td>\n",
       "      <td>nopre</td>\n",
       "      <td>type1</td>\n",
       "      <td>p3</td>\n",
       "      <td>l1</td>\n",
       "      <td>nopc</td>\n",
       "      <td>nob/c</td>\n",
       "      <td>not_neg</td>\n",
       "      <td>not_int</td>\n",
       "      <td>...</td>\n",
       "      <td>sb</td>\n",
       "      <td>pr</td>\n",
       "      <td>home</td>\n",
       "      <td>1U</td>\n",
       "      <td>CIB</td>\n",
       "      <td>CIB</td>\n",
       "      <td>45-54</td>\n",
       "      <td>not_inst</td>\n",
       "      <td>North</td>\n",
       "      <td>direct</td>\n",
       "    </tr>\n",
       "  </tbody>\n",
       "</table>\n",
       "<p>148374 rows × 21 columns</p>\n",
       "</div>"
      ],
      "text/plain": [
       "       loan_limit  Gender approv_in_adv loan_type loan_purpose  \\\n",
       "0              cf    Male         nopre     type1           p1   \n",
       "1              cf    Male         nopre     type2           p1   \n",
       "2              cf    Male           pre     type1           p1   \n",
       "3              cf    Male         nopre     type1           p4   \n",
       "4              cf   Joint           pre     type1           p1   \n",
       "...           ...     ...           ...       ...          ...   \n",
       "148369         cf    Male         nopre     type1           p3   \n",
       "148370         cf    Male         nopre     type1           p1   \n",
       "148371         cf    Male         nopre     type1           p4   \n",
       "148372         cf  Female         nopre     type1           p4   \n",
       "148373         cf  Female         nopre     type1           p3   \n",
       "\n",
       "       Credit_Worthiness open_credit business_or_commercial Neg_ammortization  \\\n",
       "0                     l1        nopc                  nob/c           not_neg   \n",
       "1                     l1        nopc                    b/c           not_neg   \n",
       "2                     l1        nopc                  nob/c           neg_amm   \n",
       "3                     l1        nopc                  nob/c           not_neg   \n",
       "4                     l1        nopc                  nob/c           not_neg   \n",
       "...                  ...         ...                    ...               ...   \n",
       "148369                l1        nopc                  nob/c           not_neg   \n",
       "148370                l1        nopc                  nob/c           not_neg   \n",
       "148371                l1        nopc                  nob/c           not_neg   \n",
       "148372                l1        nopc                  nob/c           not_neg   \n",
       "148373                l1        nopc                  nob/c           not_neg   \n",
       "\n",
       "       interest_only  ... construction_type occupancy_type Secured_by  \\\n",
       "0            not_int  ...                sb             pr       home   \n",
       "1            not_int  ...                sb             pr       home   \n",
       "2            not_int  ...                sb             pr       home   \n",
       "3            not_int  ...                sb             pr       home   \n",
       "4            not_int  ...                sb             pr       home   \n",
       "...              ...  ...               ...            ...        ...   \n",
       "148369       not_int  ...                sb             pr       home   \n",
       "148370       not_int  ...                sb             ir       home   \n",
       "148371       not_int  ...                sb             pr       home   \n",
       "148372       not_int  ...                sb             pr       home   \n",
       "148373       not_int  ...                sb             pr       home   \n",
       "\n",
       "       total_units credit_type co-applicant_credit_type    age  \\\n",
       "0               1U         EXP                      CIB  25-34   \n",
       "1               1U        EQUI                      EXP  55-64   \n",
       "2               1U         EXP                      CIB  35-44   \n",
       "3               1U         EXP                      CIB  45-54   \n",
       "4               1U        CRIF                      EXP  25-34   \n",
       "...            ...         ...                      ...    ...   \n",
       "148369          1U         CIB                      EXP  55-64   \n",
       "148370          4U         CIB                      CIB  25-34   \n",
       "148371          1U         CIB                      EXP  45-54   \n",
       "148372          1U         EXP                      EXP  55-64   \n",
       "148373          1U         CIB                      CIB  45-54   \n",
       "\n",
       "       submission_of_application Region Security_Type  \n",
       "0                        to_inst  south        direct  \n",
       "1                        to_inst  North        direct  \n",
       "2                        to_inst  south        direct  \n",
       "3                       not_inst  North        direct  \n",
       "4                       not_inst  North        direct  \n",
       "...                          ...    ...           ...  \n",
       "148369                   to_inst  south        direct  \n",
       "148370                  not_inst  south        direct  \n",
       "148371                  not_inst  North        direct  \n",
       "148372                   to_inst  North        direct  \n",
       "148373                  not_inst  North        direct  \n",
       "\n",
       "[148374 rows x 21 columns]"
      ]
     },
     "execution_count": 82,
     "metadata": {},
     "output_type": "execute_result"
    }
   ],
   "source": [
    "data_only_cat"
   ]
  },
  {
   "cell_type": "code",
   "execution_count": 83,
   "id": "4d413fc4",
   "metadata": {},
   "outputs": [
    {
     "data": {
      "text/html": [
       "<div>\n",
       "<style scoped>\n",
       "    .dataframe tbody tr th:only-of-type {\n",
       "        vertical-align: middle;\n",
       "    }\n",
       "\n",
       "    .dataframe tbody tr th {\n",
       "        vertical-align: top;\n",
       "    }\n",
       "\n",
       "    .dataframe thead th {\n",
       "        text-align: right;\n",
       "    }\n",
       "</style>\n",
       "<table border=\"1\" class=\"dataframe\">\n",
       "  <thead>\n",
       "    <tr style=\"text-align: right;\">\n",
       "      <th></th>\n",
       "      <th>loan_limit_cf</th>\n",
       "      <th>loan_limit_ncf</th>\n",
       "      <th>Gender_Female</th>\n",
       "      <th>Gender_Joint</th>\n",
       "      <th>Gender_Male</th>\n",
       "      <th>approv_in_adv_nopre</th>\n",
       "      <th>approv_in_adv_pre</th>\n",
       "      <th>loan_type_type1</th>\n",
       "      <th>loan_type_type2</th>\n",
       "      <th>loan_type_type3</th>\n",
       "      <th>...</th>\n",
       "      <th>age_&lt;25</th>\n",
       "      <th>age_&gt;74</th>\n",
       "      <th>submission_of_application_not_inst</th>\n",
       "      <th>submission_of_application_to_inst</th>\n",
       "      <th>Region_North</th>\n",
       "      <th>Region_North-East</th>\n",
       "      <th>Region_central</th>\n",
       "      <th>Region_south</th>\n",
       "      <th>Security_Type_Indriect</th>\n",
       "      <th>Security_Type_direct</th>\n",
       "    </tr>\n",
       "  </thead>\n",
       "  <tbody>\n",
       "    <tr>\n",
       "      <th>0</th>\n",
       "      <td>1</td>\n",
       "      <td>0</td>\n",
       "      <td>0</td>\n",
       "      <td>0</td>\n",
       "      <td>1</td>\n",
       "      <td>1</td>\n",
       "      <td>0</td>\n",
       "      <td>1</td>\n",
       "      <td>0</td>\n",
       "      <td>0</td>\n",
       "      <td>...</td>\n",
       "      <td>0</td>\n",
       "      <td>0</td>\n",
       "      <td>0</td>\n",
       "      <td>1</td>\n",
       "      <td>0</td>\n",
       "      <td>0</td>\n",
       "      <td>0</td>\n",
       "      <td>1</td>\n",
       "      <td>0</td>\n",
       "      <td>1</td>\n",
       "    </tr>\n",
       "    <tr>\n",
       "      <th>1</th>\n",
       "      <td>1</td>\n",
       "      <td>0</td>\n",
       "      <td>0</td>\n",
       "      <td>0</td>\n",
       "      <td>1</td>\n",
       "      <td>1</td>\n",
       "      <td>0</td>\n",
       "      <td>0</td>\n",
       "      <td>1</td>\n",
       "      <td>0</td>\n",
       "      <td>...</td>\n",
       "      <td>0</td>\n",
       "      <td>0</td>\n",
       "      <td>0</td>\n",
       "      <td>1</td>\n",
       "      <td>1</td>\n",
       "      <td>0</td>\n",
       "      <td>0</td>\n",
       "      <td>0</td>\n",
       "      <td>0</td>\n",
       "      <td>1</td>\n",
       "    </tr>\n",
       "    <tr>\n",
       "      <th>2</th>\n",
       "      <td>1</td>\n",
       "      <td>0</td>\n",
       "      <td>0</td>\n",
       "      <td>0</td>\n",
       "      <td>1</td>\n",
       "      <td>0</td>\n",
       "      <td>1</td>\n",
       "      <td>1</td>\n",
       "      <td>0</td>\n",
       "      <td>0</td>\n",
       "      <td>...</td>\n",
       "      <td>0</td>\n",
       "      <td>0</td>\n",
       "      <td>0</td>\n",
       "      <td>1</td>\n",
       "      <td>0</td>\n",
       "      <td>0</td>\n",
       "      <td>0</td>\n",
       "      <td>1</td>\n",
       "      <td>0</td>\n",
       "      <td>1</td>\n",
       "    </tr>\n",
       "    <tr>\n",
       "      <th>3</th>\n",
       "      <td>1</td>\n",
       "      <td>0</td>\n",
       "      <td>0</td>\n",
       "      <td>0</td>\n",
       "      <td>1</td>\n",
       "      <td>1</td>\n",
       "      <td>0</td>\n",
       "      <td>1</td>\n",
       "      <td>0</td>\n",
       "      <td>0</td>\n",
       "      <td>...</td>\n",
       "      <td>0</td>\n",
       "      <td>0</td>\n",
       "      <td>1</td>\n",
       "      <td>0</td>\n",
       "      <td>1</td>\n",
       "      <td>0</td>\n",
       "      <td>0</td>\n",
       "      <td>0</td>\n",
       "      <td>0</td>\n",
       "      <td>1</td>\n",
       "    </tr>\n",
       "    <tr>\n",
       "      <th>4</th>\n",
       "      <td>1</td>\n",
       "      <td>0</td>\n",
       "      <td>0</td>\n",
       "      <td>1</td>\n",
       "      <td>0</td>\n",
       "      <td>0</td>\n",
       "      <td>1</td>\n",
       "      <td>1</td>\n",
       "      <td>0</td>\n",
       "      <td>0</td>\n",
       "      <td>...</td>\n",
       "      <td>0</td>\n",
       "      <td>0</td>\n",
       "      <td>1</td>\n",
       "      <td>0</td>\n",
       "      <td>1</td>\n",
       "      <td>0</td>\n",
       "      <td>0</td>\n",
       "      <td>0</td>\n",
       "      <td>0</td>\n",
       "      <td>1</td>\n",
       "    </tr>\n",
       "    <tr>\n",
       "      <th>...</th>\n",
       "      <td>...</td>\n",
       "      <td>...</td>\n",
       "      <td>...</td>\n",
       "      <td>...</td>\n",
       "      <td>...</td>\n",
       "      <td>...</td>\n",
       "      <td>...</td>\n",
       "      <td>...</td>\n",
       "      <td>...</td>\n",
       "      <td>...</td>\n",
       "      <td>...</td>\n",
       "      <td>...</td>\n",
       "      <td>...</td>\n",
       "      <td>...</td>\n",
       "      <td>...</td>\n",
       "      <td>...</td>\n",
       "      <td>...</td>\n",
       "      <td>...</td>\n",
       "      <td>...</td>\n",
       "      <td>...</td>\n",
       "      <td>...</td>\n",
       "    </tr>\n",
       "    <tr>\n",
       "      <th>148369</th>\n",
       "      <td>1</td>\n",
       "      <td>0</td>\n",
       "      <td>0</td>\n",
       "      <td>0</td>\n",
       "      <td>1</td>\n",
       "      <td>1</td>\n",
       "      <td>0</td>\n",
       "      <td>1</td>\n",
       "      <td>0</td>\n",
       "      <td>0</td>\n",
       "      <td>...</td>\n",
       "      <td>0</td>\n",
       "      <td>0</td>\n",
       "      <td>0</td>\n",
       "      <td>1</td>\n",
       "      <td>0</td>\n",
       "      <td>0</td>\n",
       "      <td>0</td>\n",
       "      <td>1</td>\n",
       "      <td>0</td>\n",
       "      <td>1</td>\n",
       "    </tr>\n",
       "    <tr>\n",
       "      <th>148370</th>\n",
       "      <td>1</td>\n",
       "      <td>0</td>\n",
       "      <td>0</td>\n",
       "      <td>0</td>\n",
       "      <td>1</td>\n",
       "      <td>1</td>\n",
       "      <td>0</td>\n",
       "      <td>1</td>\n",
       "      <td>0</td>\n",
       "      <td>0</td>\n",
       "      <td>...</td>\n",
       "      <td>0</td>\n",
       "      <td>0</td>\n",
       "      <td>1</td>\n",
       "      <td>0</td>\n",
       "      <td>0</td>\n",
       "      <td>0</td>\n",
       "      <td>0</td>\n",
       "      <td>1</td>\n",
       "      <td>0</td>\n",
       "      <td>1</td>\n",
       "    </tr>\n",
       "    <tr>\n",
       "      <th>148371</th>\n",
       "      <td>1</td>\n",
       "      <td>0</td>\n",
       "      <td>0</td>\n",
       "      <td>0</td>\n",
       "      <td>1</td>\n",
       "      <td>1</td>\n",
       "      <td>0</td>\n",
       "      <td>1</td>\n",
       "      <td>0</td>\n",
       "      <td>0</td>\n",
       "      <td>...</td>\n",
       "      <td>0</td>\n",
       "      <td>0</td>\n",
       "      <td>1</td>\n",
       "      <td>0</td>\n",
       "      <td>1</td>\n",
       "      <td>0</td>\n",
       "      <td>0</td>\n",
       "      <td>0</td>\n",
       "      <td>0</td>\n",
       "      <td>1</td>\n",
       "    </tr>\n",
       "    <tr>\n",
       "      <th>148372</th>\n",
       "      <td>1</td>\n",
       "      <td>0</td>\n",
       "      <td>1</td>\n",
       "      <td>0</td>\n",
       "      <td>0</td>\n",
       "      <td>1</td>\n",
       "      <td>0</td>\n",
       "      <td>1</td>\n",
       "      <td>0</td>\n",
       "      <td>0</td>\n",
       "      <td>...</td>\n",
       "      <td>0</td>\n",
       "      <td>0</td>\n",
       "      <td>0</td>\n",
       "      <td>1</td>\n",
       "      <td>1</td>\n",
       "      <td>0</td>\n",
       "      <td>0</td>\n",
       "      <td>0</td>\n",
       "      <td>0</td>\n",
       "      <td>1</td>\n",
       "    </tr>\n",
       "    <tr>\n",
       "      <th>148373</th>\n",
       "      <td>1</td>\n",
       "      <td>0</td>\n",
       "      <td>1</td>\n",
       "      <td>0</td>\n",
       "      <td>0</td>\n",
       "      <td>1</td>\n",
       "      <td>0</td>\n",
       "      <td>1</td>\n",
       "      <td>0</td>\n",
       "      <td>0</td>\n",
       "      <td>...</td>\n",
       "      <td>0</td>\n",
       "      <td>0</td>\n",
       "      <td>1</td>\n",
       "      <td>0</td>\n",
       "      <td>1</td>\n",
       "      <td>0</td>\n",
       "      <td>0</td>\n",
       "      <td>0</td>\n",
       "      <td>0</td>\n",
       "      <td>1</td>\n",
       "    </tr>\n",
       "  </tbody>\n",
       "</table>\n",
       "<p>148374 rows × 58 columns</p>\n",
       "</div>"
      ],
      "text/plain": [
       "        loan_limit_cf  loan_limit_ncf  Gender_Female  Gender_Joint  \\\n",
       "0                   1               0              0             0   \n",
       "1                   1               0              0             0   \n",
       "2                   1               0              0             0   \n",
       "3                   1               0              0             0   \n",
       "4                   1               0              0             1   \n",
       "...               ...             ...            ...           ...   \n",
       "148369              1               0              0             0   \n",
       "148370              1               0              0             0   \n",
       "148371              1               0              0             0   \n",
       "148372              1               0              1             0   \n",
       "148373              1               0              1             0   \n",
       "\n",
       "        Gender_Male  approv_in_adv_nopre  approv_in_adv_pre  loan_type_type1  \\\n",
       "0                 1                    1                  0                1   \n",
       "1                 1                    1                  0                0   \n",
       "2                 1                    0                  1                1   \n",
       "3                 1                    1                  0                1   \n",
       "4                 0                    0                  1                1   \n",
       "...             ...                  ...                ...              ...   \n",
       "148369            1                    1                  0                1   \n",
       "148370            1                    1                  0                1   \n",
       "148371            1                    1                  0                1   \n",
       "148372            0                    1                  0                1   \n",
       "148373            0                    1                  0                1   \n",
       "\n",
       "        loan_type_type2  loan_type_type3  ...  age_<25  age_>74  \\\n",
       "0                     0                0  ...        0        0   \n",
       "1                     1                0  ...        0        0   \n",
       "2                     0                0  ...        0        0   \n",
       "3                     0                0  ...        0        0   \n",
       "4                     0                0  ...        0        0   \n",
       "...                 ...              ...  ...      ...      ...   \n",
       "148369                0                0  ...        0        0   \n",
       "148370                0                0  ...        0        0   \n",
       "148371                0                0  ...        0        0   \n",
       "148372                0                0  ...        0        0   \n",
       "148373                0                0  ...        0        0   \n",
       "\n",
       "        submission_of_application_not_inst  submission_of_application_to_inst  \\\n",
       "0                                        0                                  1   \n",
       "1                                        0                                  1   \n",
       "2                                        0                                  1   \n",
       "3                                        1                                  0   \n",
       "4                                        1                                  0   \n",
       "...                                    ...                                ...   \n",
       "148369                                   0                                  1   \n",
       "148370                                   1                                  0   \n",
       "148371                                   1                                  0   \n",
       "148372                                   0                                  1   \n",
       "148373                                   1                                  0   \n",
       "\n",
       "        Region_North  Region_North-East  Region_central  Region_south  \\\n",
       "0                  0                  0               0             1   \n",
       "1                  1                  0               0             0   \n",
       "2                  0                  0               0             1   \n",
       "3                  1                  0               0             0   \n",
       "4                  1                  0               0             0   \n",
       "...              ...                ...             ...           ...   \n",
       "148369             0                  0               0             1   \n",
       "148370             0                  0               0             1   \n",
       "148371             1                  0               0             0   \n",
       "148372             1                  0               0             0   \n",
       "148373             1                  0               0             0   \n",
       "\n",
       "        Security_Type_Indriect  Security_Type_direct  \n",
       "0                            0                     1  \n",
       "1                            0                     1  \n",
       "2                            0                     1  \n",
       "3                            0                     1  \n",
       "4                            0                     1  \n",
       "...                        ...                   ...  \n",
       "148369                       0                     1  \n",
       "148370                       0                     1  \n",
       "148371                       0                     1  \n",
       "148372                       0                     1  \n",
       "148373                       0                     1  \n",
       "\n",
       "[148374 rows x 58 columns]"
      ]
     },
     "execution_count": 83,
     "metadata": {},
     "output_type": "execute_result"
    }
   ],
   "source": [
    "pd.get_dummies(data_only_cat)"
   ]
  },
  {
   "cell_type": "code",
   "execution_count": 84,
   "id": "11901ddc",
   "metadata": {},
   "outputs": [],
   "source": [
    "data_only_cat_dummies=pd.get_dummies(data_only_cat)"
   ]
  },
  {
   "cell_type": "code",
   "execution_count": 85,
   "id": "2d2b3750",
   "metadata": {},
   "outputs": [],
   "source": [
    "data_scale = data_scale.reset_index().drop(columns = 'index')"
   ]
  },
  {
   "cell_type": "code",
   "execution_count": 86,
   "id": "1c519af1",
   "metadata": {},
   "outputs": [],
   "source": [
    "data_only_cat_dummies = data_only_cat_dummies.reset_index().drop(columns = 'index')"
   ]
  },
  {
   "cell_type": "code",
   "execution_count": 87,
   "id": "70c0c0b8",
   "metadata": {},
   "outputs": [],
   "source": [
    "scaled_data=pd.concat([data_scale,data_only_cat_dummies],axis=1)"
   ]
  },
  {
   "cell_type": "code",
   "execution_count": 88,
   "id": "81355277",
   "metadata": {},
   "outputs": [
    {
     "data": {
      "text/html": [
       "<div>\n",
       "<style scoped>\n",
       "    .dataframe tbody tr th:only-of-type {\n",
       "        vertical-align: middle;\n",
       "    }\n",
       "\n",
       "    .dataframe tbody tr th {\n",
       "        vertical-align: top;\n",
       "    }\n",
       "\n",
       "    .dataframe thead th {\n",
       "        text-align: right;\n",
       "    }\n",
       "</style>\n",
       "<table border=\"1\" class=\"dataframe\">\n",
       "  <thead>\n",
       "    <tr style=\"text-align: right;\">\n",
       "      <th></th>\n",
       "      <th>loan_amount</th>\n",
       "      <th>rate_of_interest</th>\n",
       "      <th>Interest_rate_spread</th>\n",
       "      <th>Upfront_charges</th>\n",
       "      <th>term</th>\n",
       "      <th>property_value</th>\n",
       "      <th>income</th>\n",
       "      <th>Credit_Score</th>\n",
       "      <th>LTV</th>\n",
       "      <th>Status</th>\n",
       "      <th>...</th>\n",
       "      <th>age_&lt;25</th>\n",
       "      <th>age_&gt;74</th>\n",
       "      <th>submission_of_application_not_inst</th>\n",
       "      <th>submission_of_application_to_inst</th>\n",
       "      <th>Region_North</th>\n",
       "      <th>Region_North-East</th>\n",
       "      <th>Region_central</th>\n",
       "      <th>Region_south</th>\n",
       "      <th>Security_Type_Indriect</th>\n",
       "      <th>Security_Type_direct</th>\n",
       "    </tr>\n",
       "  </thead>\n",
       "  <tbody>\n",
       "    <tr>\n",
       "      <th>0</th>\n",
       "      <td>-1.167557</td>\n",
       "      <td>-0.085014</td>\n",
       "      <td>-0.086698</td>\n",
       "      <td>-0.017343</td>\n",
       "      <td>0.425919</td>\n",
       "      <td>-1.065629</td>\n",
       "      <td>-0.816282</td>\n",
       "      <td>0.502534</td>\n",
       "      <td>0.678905</td>\n",
       "      <td>1.748915</td>\n",
       "      <td>...</td>\n",
       "      <td>0</td>\n",
       "      <td>0</td>\n",
       "      <td>0</td>\n",
       "      <td>1</td>\n",
       "      <td>0</td>\n",
       "      <td>0</td>\n",
       "      <td>0</td>\n",
       "      <td>1</td>\n",
       "      <td>0</td>\n",
       "      <td>1</td>\n",
       "    </tr>\n",
       "    <tr>\n",
       "      <th>1</th>\n",
       "      <td>-0.677950</td>\n",
       "      <td>-0.085014</td>\n",
       "      <td>-0.086698</td>\n",
       "      <td>-0.004606</td>\n",
       "      <td>0.425919</td>\n",
       "      <td>-0.276110</td>\n",
       "      <td>-0.302016</td>\n",
       "      <td>-1.275368</td>\n",
       "      <td>0.056695</td>\n",
       "      <td>1.748915</td>\n",
       "      <td>...</td>\n",
       "      <td>0</td>\n",
       "      <td>0</td>\n",
       "      <td>0</td>\n",
       "      <td>1</td>\n",
       "      <td>1</td>\n",
       "      <td>0</td>\n",
       "      <td>0</td>\n",
       "      <td>0</td>\n",
       "      <td>0</td>\n",
       "      <td>1</td>\n",
       "    </tr>\n",
       "    <tr>\n",
       "      <th>2</th>\n",
       "      <td>0.410064</td>\n",
       "      <td>1.082081</td>\n",
       "      <td>-0.513198</td>\n",
       "      <td>-0.944224</td>\n",
       "      <td>0.425919</td>\n",
       "      <td>0.021121</td>\n",
       "      <td>0.412244</td>\n",
       "      <td>1.158460</td>\n",
       "      <td>0.185494</td>\n",
       "      <td>-0.571783</td>\n",
       "      <td>...</td>\n",
       "      <td>0</td>\n",
       "      <td>0</td>\n",
       "      <td>0</td>\n",
       "      <td>1</td>\n",
       "      <td>0</td>\n",
       "      <td>0</td>\n",
       "      <td>0</td>\n",
       "      <td>1</td>\n",
       "      <td>0</td>\n",
       "      <td>1</td>\n",
       "    </tr>\n",
       "    <tr>\n",
       "      <th>3</th>\n",
       "      <td>0.682068</td>\n",
       "      <td>0.447345</td>\n",
       "      <td>0.565385</td>\n",
       "      <td>-0.072504</td>\n",
       "      <td>0.425919</td>\n",
       "      <td>0.439101</td>\n",
       "      <td>0.793182</td>\n",
       "      <td>-0.973297</td>\n",
       "      <td>-0.095185</td>\n",
       "      <td>-0.571783</td>\n",
       "      <td>...</td>\n",
       "      <td>0</td>\n",
       "      <td>0</td>\n",
       "      <td>1</td>\n",
       "      <td>0</td>\n",
       "      <td>1</td>\n",
       "      <td>0</td>\n",
       "      <td>0</td>\n",
       "      <td>0</td>\n",
       "      <td>0</td>\n",
       "      <td>1</td>\n",
       "    </tr>\n",
       "    <tr>\n",
       "      <th>4</th>\n",
       "      <td>1.987685</td>\n",
       "      <td>-0.064538</td>\n",
       "      <td>-0.279542</td>\n",
       "      <td>-1.157706</td>\n",
       "      <td>0.425919</td>\n",
       "      <td>0.717755</td>\n",
       "      <td>0.564619</td>\n",
       "      <td>-0.843838</td>\n",
       "      <td>0.498455</td>\n",
       "      <td>-0.571783</td>\n",
       "      <td>...</td>\n",
       "      <td>0</td>\n",
       "      <td>0</td>\n",
       "      <td>1</td>\n",
       "      <td>0</td>\n",
       "      <td>1</td>\n",
       "      <td>0</td>\n",
       "      <td>0</td>\n",
       "      <td>0</td>\n",
       "      <td>0</td>\n",
       "      <td>1</td>\n",
       "    </tr>\n",
       "    <tr>\n",
       "      <th>...</th>\n",
       "      <td>...</td>\n",
       "      <td>...</td>\n",
       "      <td>...</td>\n",
       "      <td>...</td>\n",
       "      <td>...</td>\n",
       "      <td>...</td>\n",
       "      <td>...</td>\n",
       "      <td>...</td>\n",
       "      <td>...</td>\n",
       "      <td>...</td>\n",
       "      <td>...</td>\n",
       "      <td>...</td>\n",
       "      <td>...</td>\n",
       "      <td>...</td>\n",
       "      <td>...</td>\n",
       "      <td>...</td>\n",
       "      <td>...</td>\n",
       "      <td>...</td>\n",
       "      <td>...</td>\n",
       "      <td>...</td>\n",
       "      <td>...</td>\n",
       "    </tr>\n",
       "    <tr>\n",
       "      <th>148369</th>\n",
       "      <td>0.573266</td>\n",
       "      <td>-1.856132</td>\n",
       "      <td>-0.385158</td>\n",
       "      <td>2.415881</td>\n",
       "      <td>-2.654656</td>\n",
       "      <td>0.299774</td>\n",
       "      <td>0.155111</td>\n",
       "      <td>-0.351894</td>\n",
       "      <td>-0.031472</td>\n",
       "      <td>-0.571783</td>\n",
       "      <td>...</td>\n",
       "      <td>0</td>\n",
       "      <td>0</td>\n",
       "      <td>0</td>\n",
       "      <td>1</td>\n",
       "      <td>0</td>\n",
       "      <td>0</td>\n",
       "      <td>0</td>\n",
       "      <td>1</td>\n",
       "      <td>0</td>\n",
       "      <td>1</td>\n",
       "    </tr>\n",
       "    <tr>\n",
       "      <th>148370</th>\n",
       "      <td>1.389277</td>\n",
       "      <td>2.372029</td>\n",
       "      <td>0.954213</td>\n",
       "      <td>-1.157706</td>\n",
       "      <td>0.425919</td>\n",
       "      <td>0.801351</td>\n",
       "      <td>0.040829</td>\n",
       "      <td>-1.128648</td>\n",
       "      <td>0.038051</td>\n",
       "      <td>-0.571783</td>\n",
       "      <td>...</td>\n",
       "      <td>0</td>\n",
       "      <td>0</td>\n",
       "      <td>1</td>\n",
       "      <td>0</td>\n",
       "      <td>0</td>\n",
       "      <td>0</td>\n",
       "      <td>0</td>\n",
       "      <td>1</td>\n",
       "      <td>0</td>\n",
       "      <td>1</td>\n",
       "    </tr>\n",
       "    <tr>\n",
       "      <th>148371</th>\n",
       "      <td>0.627667</td>\n",
       "      <td>-1.856132</td>\n",
       "      <td>-0.778695</td>\n",
       "      <td>-0.717595</td>\n",
       "      <td>-2.654656</td>\n",
       "      <td>0.634159</td>\n",
       "      <td>0.002735</td>\n",
       "      <td>0.019221</td>\n",
       "      <td>-0.307339</td>\n",
       "      <td>-0.571783</td>\n",
       "      <td>...</td>\n",
       "      <td>0</td>\n",
       "      <td>0</td>\n",
       "      <td>1</td>\n",
       "      <td>0</td>\n",
       "      <td>1</td>\n",
       "      <td>0</td>\n",
       "      <td>0</td>\n",
       "      <td>0</td>\n",
       "      <td>0</td>\n",
       "      <td>1</td>\n",
       "    </tr>\n",
       "    <tr>\n",
       "      <th>148372</th>\n",
       "      <td>-0.732351</td>\n",
       "      <td>-1.088306</td>\n",
       "      <td>0.344287</td>\n",
       "      <td>0.393478</td>\n",
       "      <td>-2.654656</td>\n",
       "      <td>-0.619783</td>\n",
       "      <td>0.040829</td>\n",
       "      <td>0.321292</td>\n",
       "      <td>-0.060727</td>\n",
       "      <td>-0.571783</td>\n",
       "      <td>...</td>\n",
       "      <td>0</td>\n",
       "      <td>0</td>\n",
       "      <td>0</td>\n",
       "      <td>1</td>\n",
       "      <td>1</td>\n",
       "      <td>0</td>\n",
       "      <td>0</td>\n",
       "      <td>0</td>\n",
       "      <td>0</td>\n",
       "      <td>1</td>\n",
       "    </tr>\n",
       "    <tr>\n",
       "      <th>148373</th>\n",
       "      <td>0.410064</td>\n",
       "      <td>0.703287</td>\n",
       "      <td>2.148727</td>\n",
       "      <td>0.995057</td>\n",
       "      <td>-1.627797</td>\n",
       "      <td>0.160447</td>\n",
       "      <td>0.059876</td>\n",
       "      <td>1.123937</td>\n",
       "      <td>-0.003604</td>\n",
       "      <td>-0.571783</td>\n",
       "      <td>...</td>\n",
       "      <td>0</td>\n",
       "      <td>0</td>\n",
       "      <td>1</td>\n",
       "      <td>0</td>\n",
       "      <td>1</td>\n",
       "      <td>0</td>\n",
       "      <td>0</td>\n",
       "      <td>0</td>\n",
       "      <td>0</td>\n",
       "      <td>1</td>\n",
       "    </tr>\n",
       "  </tbody>\n",
       "</table>\n",
       "<p>148374 rows × 69 columns</p>\n",
       "</div>"
      ],
      "text/plain": [
       "        loan_amount  rate_of_interest  Interest_rate_spread  Upfront_charges  \\\n",
       "0         -1.167557         -0.085014             -0.086698        -0.017343   \n",
       "1         -0.677950         -0.085014             -0.086698        -0.004606   \n",
       "2          0.410064          1.082081             -0.513198        -0.944224   \n",
       "3          0.682068          0.447345              0.565385        -0.072504   \n",
       "4          1.987685         -0.064538             -0.279542        -1.157706   \n",
       "...             ...               ...                   ...              ...   \n",
       "148369     0.573266         -1.856132             -0.385158         2.415881   \n",
       "148370     1.389277          2.372029              0.954213        -1.157706   \n",
       "148371     0.627667         -1.856132             -0.778695        -0.717595   \n",
       "148372    -0.732351         -1.088306              0.344287         0.393478   \n",
       "148373     0.410064          0.703287              2.148727         0.995057   \n",
       "\n",
       "            term  property_value    income  Credit_Score       LTV    Status  \\\n",
       "0       0.425919       -1.065629 -0.816282      0.502534  0.678905  1.748915   \n",
       "1       0.425919       -0.276110 -0.302016     -1.275368  0.056695  1.748915   \n",
       "2       0.425919        0.021121  0.412244      1.158460  0.185494 -0.571783   \n",
       "3       0.425919        0.439101  0.793182     -0.973297 -0.095185 -0.571783   \n",
       "4       0.425919        0.717755  0.564619     -0.843838  0.498455 -0.571783   \n",
       "...          ...             ...       ...           ...       ...       ...   \n",
       "148369 -2.654656        0.299774  0.155111     -0.351894 -0.031472 -0.571783   \n",
       "148370  0.425919        0.801351  0.040829     -1.128648  0.038051 -0.571783   \n",
       "148371 -2.654656        0.634159  0.002735      0.019221 -0.307339 -0.571783   \n",
       "148372 -2.654656       -0.619783  0.040829      0.321292 -0.060727 -0.571783   \n",
       "148373 -1.627797        0.160447  0.059876      1.123937 -0.003604 -0.571783   \n",
       "\n",
       "        ...  age_<25  age_>74  submission_of_application_not_inst  \\\n",
       "0       ...        0        0                                   0   \n",
       "1       ...        0        0                                   0   \n",
       "2       ...        0        0                                   0   \n",
       "3       ...        0        0                                   1   \n",
       "4       ...        0        0                                   1   \n",
       "...     ...      ...      ...                                 ...   \n",
       "148369  ...        0        0                                   0   \n",
       "148370  ...        0        0                                   1   \n",
       "148371  ...        0        0                                   1   \n",
       "148372  ...        0        0                                   0   \n",
       "148373  ...        0        0                                   1   \n",
       "\n",
       "        submission_of_application_to_inst  Region_North  Region_North-East  \\\n",
       "0                                       1             0                  0   \n",
       "1                                       1             1                  0   \n",
       "2                                       1             0                  0   \n",
       "3                                       0             1                  0   \n",
       "4                                       0             1                  0   \n",
       "...                                   ...           ...                ...   \n",
       "148369                                  1             0                  0   \n",
       "148370                                  0             0                  0   \n",
       "148371                                  0             1                  0   \n",
       "148372                                  1             1                  0   \n",
       "148373                                  0             1                  0   \n",
       "\n",
       "        Region_central  Region_south  Security_Type_Indriect  \\\n",
       "0                    0             1                       0   \n",
       "1                    0             0                       0   \n",
       "2                    0             1                       0   \n",
       "3                    0             0                       0   \n",
       "4                    0             0                       0   \n",
       "...                ...           ...                     ...   \n",
       "148369               0             1                       0   \n",
       "148370               0             1                       0   \n",
       "148371               0             0                       0   \n",
       "148372               0             0                       0   \n",
       "148373               0             0                       0   \n",
       "\n",
       "        Security_Type_direct  \n",
       "0                          1  \n",
       "1                          1  \n",
       "2                          1  \n",
       "3                          1  \n",
       "4                          1  \n",
       "...                      ...  \n",
       "148369                     1  \n",
       "148370                     1  \n",
       "148371                     1  \n",
       "148372                     1  \n",
       "148373                     1  \n",
       "\n",
       "[148374 rows x 69 columns]"
      ]
     },
     "execution_count": 88,
     "metadata": {},
     "output_type": "execute_result"
    }
   ],
   "source": [
    "scaled_data"
   ]
  },
  {
   "cell_type": "code",
   "execution_count": 89,
   "id": "c4537156",
   "metadata": {},
   "outputs": [],
   "source": [
    "import seaborn as sns\n",
    "import matplotlib.pyplot as plt"
   ]
  },
  {
   "cell_type": "code",
   "execution_count": 90,
   "id": "0f32369c",
   "metadata": {},
   "outputs": [
    {
     "name": "stdout",
     "output_type": "stream",
     "text": [
      "year\n"
     ]
    },
    {
     "data": {
      "image/png": "[encoded data removed]",
      "text/plain": [
       "<Figure size 640x480 with 1 Axes>"
      ]
     },
     "metadata": {},
     "output_type": "display_data"
    },
    {
     "name": "stdout",
     "output_type": "stream",
     "text": [
      "loan_amount\n"
     ]
    },
    {
     "data": {
      "image/png": "[encoded data removed]",
      "text/plain": [
       "<Figure size 640x480 with 1 Axes>"
      ]
     },
     "metadata": {},
     "output_type": "display_data"
    },
    {
     "name": "stdout",
     "output_type": "stream",
     "text": [
      "rate_of_interest\n"
     ]
    },
    {
     "data": {
      "image/png": "[encoded data removed]",
      "text/plain": [
       "<Figure size 640x480 with 1 Axes>"
      ]
     },
     "metadata": {},
     "output_type": "display_data"
    },
    {
     "name": "stdout",
     "output_type": "stream",
     "text": [
      "Interest_rate_spread\n"
     ]
    },
    {
     "data": {
      "image/png": "[encoded data removed]",
      "text/plain": [
       "<Figure size 640x480 with 1 Axes>"
      ]
     },
     "metadata": {},
     "output_type": "display_data"
    },
    {
     "name": "stdout",
     "output_type": "stream",
     "text": [
      "Upfront_charges\n"
     ]
    },
    {
     "data": {
      "image/png": "[encoded data removed]",
      "text/plain": [
       "<Figure size 640x480 with 1 Axes>"
      ]
     },
     "metadata": {},
     "output_type": "display_data"
    },
    {
     "name": "stdout",
     "output_type": "stream",
     "text": [
      "term\n"
     ]
    },
    {
     "data": {
      "image/png": "[encoded data removed]",
      "text/plain": [
       "<Figure size 640x480 with 1 Axes>"
      ]
     },
     "metadata": {},
     "output_type": "display_data"
    },
    {
     "name": "stdout",
     "output_type": "stream",
     "text": [
      "property_value\n"
     ]
    },
    {
     "data": {
      "image/png": "[encoded data removed]",
      "text/plain": [
       "<Figure size 640x480 with 1 Axes>"
      ]
     },
     "metadata": {},
     "output_type": "display_data"
    },
    {
     "name": "stdout",
     "output_type": "stream",
     "text": [
      "income\n"
     ]
    },
    {
     "data": {
      "image/png": "[encoded data removed]",
      "text/plain": [
       "<Figure size 640x480 with 1 Axes>"
      ]
     },
     "metadata": {},
     "output_type": "display_data"
    },
    {
     "name": "stdout",
     "output_type": "stream",
     "text": [
      "Credit_Score\n"
     ]
    },
    {
     "data": {
      "image/png": "[encoded data removed]",
      "text/plain": [
       "<Figure size 640x480 with 1 Axes>"
      ]
     },
     "metadata": {},
     "output_type": "display_data"
    },
    {
     "name": "stdout",
     "output_type": "stream",
     "text": [
      "LTV\n"
     ]
    },
    {
     "data": {
      "image/png": "[encoded data removed]",
      "text/plain": [
       "<Figure size 640x480 with 1 Axes>"
      ]
     },
     "metadata": {},
     "output_type": "display_data"
    },
    {
     "name": "stdout",
     "output_type": "stream",
     "text": [
      "Status\n"
     ]
    },
    {
     "data": {
      "image/png": "[encoded data removed]",
      "text/plain": [
       "<Figure size 640x480 with 1 Axes>"
      ]
     },
     "metadata": {},
     "output_type": "display_data"
    },
    {
     "name": "stdout",
     "output_type": "stream",
     "text": [
      "dtir1\n"
     ]
    },
    {
     "data": {
      "image/png": "[encoded data removed]",
      "text/plain": [
       "<Figure size 640x480 with 1 Axes>"
      ]
     },
     "metadata": {},
     "output_type": "display_data"
    }
   ],
   "source": [
    "for col in data.select_dtypes(include = np.number).columns:\n",
    "    print(col)\n",
    "    sns.histplot(data[col])\n",
    "    plt.show()"
   ]
  },
  {
   "cell_type": "code",
   "execution_count": 91,
   "id": "f19454ec",
   "metadata": {},
   "outputs": [
    {
     "name": "stdout",
     "output_type": "stream",
     "text": [
      "year\n"
     ]
    },
    {
     "data": {
      "image/png": "[encoded data removed]",
      "text/plain": [
       "<Figure size 640x480 with 1 Axes>"
      ]
     },
     "metadata": {},
     "output_type": "display_data"
    },
    {
     "name": "stdout",
     "output_type": "stream",
     "text": [
      "loan_amount\n"
     ]
    },
    {
     "data": {
      "image/png": "[encoded data removed]",
      "text/plain": [
       "<Figure size 640x480 with 1 Axes>"
      ]
     },
     "metadata": {},
     "output_type": "display_data"
    },
    {
     "name": "stdout",
     "output_type": "stream",
     "text": [
      "rate_of_interest\n"
     ]
    },
    {
     "data": {
      "image/png": "[encoded data removed]",
      "text/plain": [
       "<Figure size 640x480 with 1 Axes>"
      ]
     },
     "metadata": {},
     "output_type": "display_data"
    },
    {
     "name": "stdout",
     "output_type": "stream",
     "text": [
      "Interest_rate_spread\n"
     ]
    },
    {
     "data": {
      "image/png": "[encoded data removed]",
      "text/plain": [
       "<Figure size 640x480 with 1 Axes>"
      ]
     },
     "metadata": {},
     "output_type": "display_data"
    },
    {
     "name": "stdout",
     "output_type": "stream",
     "text": [
      "Upfront_charges\n"
     ]
    },
    {
     "data": {
      "image/png": "[encoded data removed]",
      "text/plain": [
       "<Figure size 640x480 with 1 Axes>"
      ]
     },
     "metadata": {},
     "output_type": "display_data"
    },
    {
     "name": "stdout",
     "output_type": "stream",
     "text": [
      "term\n"
     ]
    },
    {
     "data": {
      "image/png": "[encoded data removed]",
      "text/plain": [
       "<Figure size 640x480 with 1 Axes>"
      ]
     },
     "metadata": {},
     "output_type": "display_data"
    },
    {
     "name": "stdout",
     "output_type": "stream",
     "text": [
      "property_value\n"
     ]
    },
    {
     "data": {
      "image/png": "[encoded data removed]",
      "text/plain": [
       "<Figure size 640x480 with 1 Axes>"
      ]
     },
     "metadata": {},
     "output_type": "display_data"
    },
    {
     "name": "stdout",
     "output_type": "stream",
     "text": [
      "income\n"
     ]
    },
    {
     "data": {
      "image/png": "[encoded data removed]",
      "text/plain": [
       "<Figure size 640x480 with 1 Axes>"
      ]
     },
     "metadata": {},
     "output_type": "display_data"
    },
    {
     "name": "stdout",
     "output_type": "stream",
     "text": [
      "Credit_Score\n"
     ]
    },
    {
     "data": {
      "image/png": "[encoded data removed]",
      "text/plain": [
       "<Figure size 640x480 with 1 Axes>"
      ]
     },
     "metadata": {},
     "output_type": "display_data"
    },
    {
     "name": "stdout",
     "output_type": "stream",
     "text": [
      "LTV\n"
     ]
    },
    {
     "data": {
      "image/png": "[encoded data removed]",
      "text/plain": [
       "<Figure size 640x480 with 1 Axes>"
      ]
     },
     "metadata": {},
     "output_type": "display_data"
    },
    {
     "name": "stdout",
     "output_type": "stream",
     "text": [
      "Status\n"
     ]
    },
    {
     "data": {
      "image/png": "[encoded data removed]",
      "text/plain": [
       "<Figure size 640x480 with 1 Axes>"
      ]
     },
     "metadata": {},
     "output_type": "display_data"
    },
    {
     "name": "stdout",
     "output_type": "stream",
     "text": [
      "dtir1\n"
     ]
    },
    {
     "data": {
      "image/png": "[encoded data removed]",
      "text/plain": [
       "<Figure size 640x480 with 1 Axes>"
      ]
     },
     "metadata": {},
     "output_type": "display_data"
    }
   ],
   "source": [
    "for col in data.select_dtypes(include = np.number).columns:\n",
    "    print(col)\n",
    "    sns.boxplot(data[col])\n",
    "    plt.show()"
   ]
  },
  {
   "cell_type": "code",
   "execution_count": 92,
   "id": "81aa0fa5",
   "metadata": {},
   "outputs": [
    {
     "name": "stdout",
     "output_type": "stream",
     "text": [
      "year\n"
     ]
    },
    {
     "data": {
      "image/png": "[encoded data removed]",
      "text/plain": [
       "<Figure size 640x480 with 1 Axes>"
      ]
     },
     "metadata": {},
     "output_type": "display_data"
    },
    {
     "name": "stdout",
     "output_type": "stream",
     "text": [
      "loan_amount\n"
     ]
    },
    {
     "data": {
      "image/png": "[encoded data removed]",
      "text/plain": [
       "<Figure size 640x480 with 1 Axes>"
      ]
     },
     "metadata": {},
     "output_type": "display_data"
    },
    {
     "name": "stdout",
     "output_type": "stream",
     "text": [
      "rate_of_interest\n"
     ]
    },
    {
     "data": {
      "image/png": "[encoded data removed]",
      "text/plain": [
       "<Figure size 640x480 with 1 Axes>"
      ]
     },
     "metadata": {},
     "output_type": "display_data"
    },
    {
     "name": "stdout",
     "output_type": "stream",
     "text": [
      "Interest_rate_spread\n"
     ]
    },
    {
     "data": {
      "image/png": "[encoded data removed]",
      "text/plain": [
       "<Figure size 640x480 with 1 Axes>"
      ]
     },
     "metadata": {},
     "output_type": "display_data"
    },
    {
     "name": "stdout",
     "output_type": "stream",
     "text": [
      "Upfront_charges\n"
     ]
    },
    {
     "data": {
      "image/png": "[encoded data removed]",
      "text/plain": [
       "<Figure size 640x480 with 1 Axes>"
      ]
     },
     "metadata": {},
     "output_type": "display_data"
    },
    {
     "name": "stdout",
     "output_type": "stream",
     "text": [
      "term\n"
     ]
    },
    {
     "data": {
      "image/png": "[encoded data removed]",
      "text/plain": [
       "<Figure size 640x480 with 1 Axes>"
      ]
     },
     "metadata": {},
     "output_type": "display_data"
    },
    {
     "name": "stdout",
     "output_type": "stream",
     "text": [
      "property_value\n"
     ]
    },
    {
     "data": {
      "image/png": "[encoded data removed]",
      "text/plain": [
       "<Figure size 640x480 with 1 Axes>"
      ]
     },
     "metadata": {},
     "output_type": "display_data"
    },
    {
     "name": "stdout",
     "output_type": "stream",
     "text": [
      "income\n"
     ]
    },
    {
     "data": {
      "image/png": "[encoded data removed]",
      "text/plain": [
       "<Figure size 640x480 with 1 Axes>"
      ]
     },
     "metadata": {},
     "output_type": "display_data"
    },
    {
     "name": "stdout",
     "output_type": "stream",
     "text": [
      "Credit_Score\n"
     ]
    },
    {
     "data": {
      "image/png": "[encoded data removed]",
      "text/plain": [
       "<Figure size 640x480 with 1 Axes>"
      ]
     },
     "metadata": {},
     "output_type": "display_data"
    },
    {
     "name": "stdout",
     "output_type": "stream",
     "text": [
      "LTV\n"
     ]
    },
    {
     "data": {
      "image/png": "[encoded data removed]",
      "text/plain": [
       "<Figure size 640x480 with 1 Axes>"
      ]
     },
     "metadata": {},
     "output_type": "display_data"
    },
    {
     "name": "stdout",
     "output_type": "stream",
     "text": [
      "Status\n"
     ]
    },
    {
     "data": {
      "image/png": "[encoded data removed]",
      "text/plain": [
       "<Figure size 640x480 with 1 Axes>"
      ]
     },
     "metadata": {},
     "output_type": "display_data"
    },
    {
     "name": "stdout",
     "output_type": "stream",
     "text": [
      "dtir1\n"
     ]
    },
    {
     "data": {
      "image/png": "[encoded data removed]",
      "text/plain": [
       "<Figure size 640x480 with 1 Axes>"
      ]
     },
     "metadata": {},
     "output_type": "display_data"
    }
   ],
   "source": [
    "for col in data.select_dtypes(include = np.number).columns:\n",
    "    print(col)\n",
    "    sns.countplot(data[col])\n",
    "    plt.show()"
   ]
  },
  {
   "cell_type": "code",
   "execution_count": 93,
   "id": "37489a72",
   "metadata": {},
   "outputs": [
    {
     "data": {
      "text/plain": [
       "<Axes: ylabel='loan_amount'>"
      ]
     },
     "execution_count": 93,
     "metadata": {},
     "output_type": "execute_result"
    },
    {
     "data": {
      "image/png": "[encoded data removed]",
      "text/plain": [
       "<Figure size 640x480 with 1 Axes>"
      ]
     },
     "metadata": {},
     "output_type": "display_data"
    }
   ],
   "source": [
    "sns.scatterplot(data['loan_amount'] )"
   ]
  },
  {
   "cell_type": "code",
   "execution_count": null,
   "id": "185629b4",
   "metadata": {},
   "outputs": [
    {
     "data": {
      "text/plain": [
       "<seaborn.axisgrid.PairGrid at 0x1e5ac505780>"
      ]
     },
     "execution_count": 94,
     "metadata": {},
     "output_type": "execute_result"
    }
   ],
   "source": [
    "sns.pairplot(data)"
   ]
  },
  {
   "cell_type": "code",
   "execution_count": null,
   "id": "bb5e6f60",
   "metadata": {},
   "outputs": [],
   "source": [
    "plt.figure(figsize=(25,25))\n",
    "sns.heatmap(data.select_dtypes(include = np.number).corr(), annot=True)"
   ]
  }
 ],
 "metadata": {
  "kernelspec": {
   "display_name": "Python 3 (ipykernel)",
   "language": "python",
   "name": "python3"
  },
  "language_info": {
   "codemirror_mode": {
    "name": "ipython",
    "version": 3
   },
   "file_extension": ".py",
   "mimetype": "text/x-python",
   "name": "python",
   "nbconvert_exporter": "python",
   "pygments_lexer": "ipython3",
   "version": "3.10.9"
  }
 },
 "nbformat": 4,
 "nbformat_minor": 5
}
