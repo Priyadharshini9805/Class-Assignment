{
 "cells": [
  {
   "cell_type": "code",
   "execution_count": 317,
   "id": "fb8419e9",
   "metadata": {},
   "outputs": [],
   "source": [
    "import pandas as pd\n",
    "import numpy as np\n",
    "from sklearn.preprocessing import OneHotEncoder, MinMaxScaler, StandardScaler"
   ]
  },
  {
   "cell_type": "markdown",
   "id": "9e8699fa",
   "metadata": {},
   "source": [
    "https://raw.githubusercontent.com/nursnaaz/DataScienceMasterclass/main/03%20-%20Data%20Preprocessing/student_assignment.csv"
   ]
  },
  {
   "cell_type": "code",
   "execution_count": 318,
   "id": "7a3cb31a",
   "metadata": {},
   "outputs": [],
   "source": [
    "student=pd.read_csv('https://raw.githubusercontent.com/nursnaaz/DataScienceMasterclass/main/03%20-%20Data%20Preprocessing/student_assignment.csv',sep=',')"
   ]
  },
  {
   "cell_type": "code",
   "execution_count": 319,
   "id": "b229bc9c",
   "metadata": {},
   "outputs": [
    {
     "data": {
      "text/html": [
       "<div>\n",
       "<style scoped>\n",
       "    .dataframe tbody tr th:only-of-type {\n",
       "        vertical-align: middle;\n",
       "    }\n",
       "\n",
       "    .dataframe tbody tr th {\n",
       "        vertical-align: top;\n",
       "    }\n",
       "\n",
       "    .dataframe thead th {\n",
       "        text-align: right;\n",
       "    }\n",
       "</style>\n",
       "<table border=\"1\" class=\"dataframe\">\n",
       "  <thead>\n",
       "    <tr style=\"text-align: right;\">\n",
       "      <th></th>\n",
       "      <th>Age</th>\n",
       "      <th>Income</th>\n",
       "      <th>Is Student</th>\n",
       "      <th>Num Children</th>\n",
       "      <th>Temperature</th>\n",
       "      <th>Rating</th>\n",
       "    </tr>\n",
       "  </thead>\n",
       "  <tbody>\n",
       "    <tr>\n",
       "      <th>0</th>\n",
       "      <td>43.0</td>\n",
       "      <td>45893.41</td>\n",
       "      <td>True</td>\n",
       "      <td>0.0</td>\n",
       "      <td>38.2</td>\n",
       "      <td>2.6</td>\n",
       "    </tr>\n",
       "    <tr>\n",
       "      <th>1</th>\n",
       "      <td>56.0</td>\n",
       "      <td>69663.07</td>\n",
       "      <td>True</td>\n",
       "      <td>1.0</td>\n",
       "      <td>38.7</td>\n",
       "      <td>3.2</td>\n",
       "    </tr>\n",
       "    <tr>\n",
       "      <th>2</th>\n",
       "      <td>NaN</td>\n",
       "      <td>45124.06</td>\n",
       "      <td>False</td>\n",
       "      <td>5.0</td>\n",
       "      <td>36.9</td>\n",
       "      <td>3.9</td>\n",
       "    </tr>\n",
       "    <tr>\n",
       "      <th>3</th>\n",
       "      <td>37.0</td>\n",
       "      <td>76724.60</td>\n",
       "      <td>False</td>\n",
       "      <td>2.0</td>\n",
       "      <td>41.6</td>\n",
       "      <td>2.5</td>\n",
       "    </tr>\n",
       "    <tr>\n",
       "      <th>4</th>\n",
       "      <td>53.0</td>\n",
       "      <td>58343.03</td>\n",
       "      <td>False</td>\n",
       "      <td>1.0</td>\n",
       "      <td>36.5</td>\n",
       "      <td>3.3</td>\n",
       "    </tr>\n",
       "    <tr>\n",
       "      <th>...</th>\n",
       "      <td>...</td>\n",
       "      <td>...</td>\n",
       "      <td>...</td>\n",
       "      <td>...</td>\n",
       "      <td>...</td>\n",
       "      <td>...</td>\n",
       "    </tr>\n",
       "    <tr>\n",
       "      <th>99</th>\n",
       "      <td>42.0</td>\n",
       "      <td>46673.04</td>\n",
       "      <td>False</td>\n",
       "      <td>5.0</td>\n",
       "      <td>38.8</td>\n",
       "      <td>10.9</td>\n",
       "    </tr>\n",
       "    <tr>\n",
       "      <th>100</th>\n",
       "      <td>35.0</td>\n",
       "      <td>27089.59</td>\n",
       "      <td>True</td>\n",
       "      <td>5.0</td>\n",
       "      <td>35.3</td>\n",
       "      <td>1.6</td>\n",
       "    </tr>\n",
       "    <tr>\n",
       "      <th>101</th>\n",
       "      <td>61.0</td>\n",
       "      <td>83082.63</td>\n",
       "      <td>True</td>\n",
       "      <td>4.0</td>\n",
       "      <td>35.6</td>\n",
       "      <td>3.7</td>\n",
       "    </tr>\n",
       "    <tr>\n",
       "      <th>102</th>\n",
       "      <td>39.0</td>\n",
       "      <td>61868.49</td>\n",
       "      <td>True</td>\n",
       "      <td>5.0</td>\n",
       "      <td>37.1</td>\n",
       "      <td>3.8</td>\n",
       "    </tr>\n",
       "    <tr>\n",
       "      <th>103</th>\n",
       "      <td>47.0</td>\n",
       "      <td>59526.59</td>\n",
       "      <td>False</td>\n",
       "      <td>3.0</td>\n",
       "      <td>36.7</td>\n",
       "      <td>3.2</td>\n",
       "    </tr>\n",
       "  </tbody>\n",
       "</table>\n",
       "<p>104 rows × 6 columns</p>\n",
       "</div>"
      ],
      "text/plain": [
       "      Age    Income Is Student  Num Children  Temperature  Rating\n",
       "0    43.0  45893.41       True           0.0         38.2     2.6\n",
       "1    56.0  69663.07       True           1.0         38.7     3.2\n",
       "2     NaN  45124.06      False           5.0         36.9     3.9\n",
       "3    37.0  76724.60      False           2.0         41.6     2.5\n",
       "4    53.0  58343.03      False           1.0         36.5     3.3\n",
       "..    ...       ...        ...           ...          ...     ...\n",
       "99   42.0  46673.04      False           5.0         38.8    10.9\n",
       "100  35.0  27089.59       True           5.0         35.3     1.6\n",
       "101  61.0  83082.63       True           4.0         35.6     3.7\n",
       "102  39.0  61868.49       True           5.0         37.1     3.8\n",
       "103  47.0  59526.59      False           3.0         36.7     3.2\n",
       "\n",
       "[104 rows x 6 columns]"
      ]
     },
     "execution_count": 319,
     "metadata": {},
     "output_type": "execute_result"
    }
   ],
   "source": [
    "student"
   ]
  },
  {
   "cell_type": "code",
   "execution_count": 320,
   "id": "fabd50ac",
   "metadata": {},
   "outputs": [
    {
     "name": "stdout",
     "output_type": "stream",
     "text": [
      "<class 'pandas.core.frame.DataFrame'>\n",
      "RangeIndex: 104 entries, 0 to 103\n",
      "Data columns (total 6 columns):\n",
      " #   Column        Non-Null Count  Dtype  \n",
      "---  ------        --------------  -----  \n",
      " 0   Age           103 non-null    float64\n",
      " 1   Income        104 non-null    float64\n",
      " 2   Is Student    104 non-null    object \n",
      " 3   Num Children  101 non-null    float64\n",
      " 4   Temperature   104 non-null    float64\n",
      " 5   Rating        104 non-null    float64\n",
      "dtypes: float64(5), object(1)\n",
      "memory usage: 5.0+ KB\n"
     ]
    }
   ],
   "source": [
    "student.info()"
   ]
  },
  {
   "cell_type": "code",
   "execution_count": 321,
   "id": "d3e42318",
   "metadata": {},
   "outputs": [
    {
     "data": {
      "text/plain": [
       "(104, 6)"
      ]
     },
     "execution_count": 321,
     "metadata": {},
     "output_type": "execute_result"
    }
   ],
   "source": [
    "student.shape"
   ]
  },
  {
   "cell_type": "code",
   "execution_count": 322,
   "id": "e3a40b32",
   "metadata": {
    "scrolled": false
   },
   "outputs": [
    {
     "data": {
      "text/html": [
       "<div>\n",
       "<style scoped>\n",
       "    .dataframe tbody tr th:only-of-type {\n",
       "        vertical-align: middle;\n",
       "    }\n",
       "\n",
       "    .dataframe tbody tr th {\n",
       "        vertical-align: top;\n",
       "    }\n",
       "\n",
       "    .dataframe thead th {\n",
       "        text-align: right;\n",
       "    }\n",
       "</style>\n",
       "<table border=\"1\" class=\"dataframe\">\n",
       "  <thead>\n",
       "    <tr style=\"text-align: right;\">\n",
       "      <th></th>\n",
       "      <th>Age</th>\n",
       "      <th>Income</th>\n",
       "      <th>Is Student</th>\n",
       "      <th>Num Children</th>\n",
       "      <th>Temperature</th>\n",
       "      <th>Rating</th>\n",
       "    </tr>\n",
       "  </thead>\n",
       "  <tbody>\n",
       "    <tr>\n",
       "      <th>2</th>\n",
       "      <td>NaN</td>\n",
       "      <td>45124.06</td>\n",
       "      <td>False</td>\n",
       "      <td>5.0</td>\n",
       "      <td>36.9</td>\n",
       "      <td>3.9</td>\n",
       "    </tr>\n",
       "  </tbody>\n",
       "</table>\n",
       "</div>"
      ],
      "text/plain": [
       "   Age    Income Is Student  Num Children  Temperature  Rating\n",
       "2  NaN  45124.06      False           5.0         36.9     3.9"
      ]
     },
     "execution_count": 322,
     "metadata": {},
     "output_type": "execute_result"
    }
   ],
   "source": [
    "student[student['Age'].isna()]"
   ]
  },
  {
   "cell_type": "code",
   "execution_count": 323,
   "id": "217f93a6",
   "metadata": {},
   "outputs": [
    {
     "data": {
      "text/html": [
       "<div>\n",
       "<style scoped>\n",
       "    .dataframe tbody tr th:only-of-type {\n",
       "        vertical-align: middle;\n",
       "    }\n",
       "\n",
       "    .dataframe tbody tr th {\n",
       "        vertical-align: top;\n",
       "    }\n",
       "\n",
       "    .dataframe thead th {\n",
       "        text-align: right;\n",
       "    }\n",
       "</style>\n",
       "<table border=\"1\" class=\"dataframe\">\n",
       "  <thead>\n",
       "    <tr style=\"text-align: right;\">\n",
       "      <th></th>\n",
       "      <th>Age</th>\n",
       "      <th>Income</th>\n",
       "      <th>Is Student</th>\n",
       "      <th>Num Children</th>\n",
       "      <th>Temperature</th>\n",
       "      <th>Rating</th>\n",
       "    </tr>\n",
       "  </thead>\n",
       "  <tbody>\n",
       "    <tr>\n",
       "      <th>100</th>\n",
       "      <td>35.0</td>\n",
       "      <td>27089.59</td>\n",
       "      <td>True</td>\n",
       "      <td>5.0</td>\n",
       "      <td>35.3</td>\n",
       "      <td>1.6</td>\n",
       "    </tr>\n",
       "    <tr>\n",
       "      <th>102</th>\n",
       "      <td>39.0</td>\n",
       "      <td>61868.49</td>\n",
       "      <td>True</td>\n",
       "      <td>5.0</td>\n",
       "      <td>37.1</td>\n",
       "      <td>3.8</td>\n",
       "    </tr>\n",
       "    <tr>\n",
       "      <th>103</th>\n",
       "      <td>47.0</td>\n",
       "      <td>59526.59</td>\n",
       "      <td>False</td>\n",
       "      <td>3.0</td>\n",
       "      <td>36.7</td>\n",
       "      <td>3.2</td>\n",
       "    </tr>\n",
       "  </tbody>\n",
       "</table>\n",
       "</div>"
      ],
      "text/plain": [
       "      Age    Income Is Student  Num Children  Temperature  Rating\n",
       "100  35.0  27089.59       True           5.0         35.3     1.6\n",
       "102  39.0  61868.49       True           5.0         37.1     3.8\n",
       "103  47.0  59526.59      False           3.0         36.7     3.2"
      ]
     },
     "execution_count": 323,
     "metadata": {},
     "output_type": "execute_result"
    }
   ],
   "source": [
    "student[student.duplicated()]"
   ]
  },
  {
   "cell_type": "code",
   "execution_count": 324,
   "id": "b0e15c73",
   "metadata": {},
   "outputs": [],
   "source": [
    "student=student.drop_duplicates()"
   ]
  },
  {
   "cell_type": "code",
   "execution_count": 325,
   "id": "4e8cec7e",
   "metadata": {},
   "outputs": [
    {
     "data": {
      "text/plain": [
       "(101, 6)"
      ]
     },
     "execution_count": 325,
     "metadata": {},
     "output_type": "execute_result"
    }
   ],
   "source": [
    "student.shape"
   ]
  },
  {
   "cell_type": "code",
   "execution_count": 326,
   "id": "6b7fbd68",
   "metadata": {},
   "outputs": [
    {
     "data": {
      "text/plain": [
       "53.31"
      ]
     },
     "execution_count": 326,
     "metadata": {},
     "output_type": "execute_result"
    }
   ],
   "source": [
    "student['Age'].mean()"
   ]
  },
  {
   "cell_type": "code",
   "execution_count": 327,
   "id": "559891bc",
   "metadata": {},
   "outputs": [
    {
     "data": {
      "text/plain": [
       "42.0"
      ]
     },
     "execution_count": 327,
     "metadata": {},
     "output_type": "execute_result"
    }
   ],
   "source": [
    "student['Age'].median()"
   ]
  },
  {
   "cell_type": "code",
   "execution_count": 328,
   "id": "e7422ce7",
   "metadata": {},
   "outputs": [
    {
     "data": {
      "text/plain": [
       "Index(['Age', 'Income', 'Is Student', 'Num Children', 'Temperature', 'Rating'], dtype='object')"
      ]
     },
     "execution_count": 328,
     "metadata": {},
     "output_type": "execute_result"
    }
   ],
   "source": [
    "student.columns"
   ]
  },
  {
   "cell_type": "code",
   "execution_count": 329,
   "id": "d67de3ae",
   "metadata": {},
   "outputs": [
    {
     "data": {
      "text/plain": [
       "<Axes: >"
      ]
     },
     "execution_count": 329,
     "metadata": {},
     "output_type": "execute_result"
    },
    {
     "data": {
      "image/png": "[encoded data removed]",
      "text/plain": [
       "<Figure size 640x480 with 1 Axes>"
      ]
     },
     "metadata": {},
     "output_type": "display_data"
    }
   ],
   "source": [
    "student['Age'].plot(kind='box')"
   ]
  },
  {
   "cell_type": "markdown",
   "id": "fea9fe9c",
   "metadata": {},
   "source": [
    "data['Age'] = data['Age'].astype('int')"
   ]
  },
  {
   "cell_type": "code",
   "execution_count": 330,
   "id": "2bb17ae0",
   "metadata": {
    "scrolled": true
   },
   "outputs": [
    {
     "name": "stderr",
     "output_type": "stream",
     "text": [
      "C:\\Users\\Vineeth Manokaran\\AppData\\Local\\Temp\\ipykernel_11628\\1820986636.py:1: SettingWithCopyWarning: \n",
      "A value is trying to be set on a copy of a slice from a DataFrame.\n",
      "Try using .loc[row_indexer,col_indexer] = value instead\n",
      "\n",
      "See the caveats in the documentation: https://pandas.pydata.org/pandas-docs/stable/user_guide/indexing.html#returning-a-view-versus-a-copy\n",
      "  student['Age']=student['Age'].astype('Int64')\n"
     ]
    }
   ],
   "source": [
    "student['Age']=student['Age'].astype('Int64')"
   ]
  },
  {
   "cell_type": "markdown",
   "id": "ae69d0c5",
   "metadata": {},
   "source": [
    "#Script to find the outliers\n",
    "for col_name in data.select_dtypes(include=np.number).columns[:-1]:\n",
    "    print(col_name)\n",
    "    q1 = data[col_name].quantile(0.25)\n",
    "    q3 = data[col_name].quantile(0.75)\n",
    "    iqr = q3 - q1\n",
    "    \n",
    "    low = q1-1.5*iqr\n",
    "    high = q3+1.5*iqr\n",
    "    print(\"Outliers = \",data.loc[(data[col_name] < low) | (data[col_name] > high), col_name])"
   ]
  },
  {
   "cell_type": "code",
   "execution_count": 331,
   "id": "8a816b93",
   "metadata": {},
   "outputs": [
    {
     "name": "stdout",
     "output_type": "stream",
     "text": [
      "Age\n",
      "Outliers = 7     511\n",
      "19    301\n",
      "47    438\n",
      "Name: Age, dtype: Int64\n",
      "Income\n",
      "Outliers = Series([], Name: Income, dtype: float64)\n",
      "Num Children\n",
      "Outliers = 82    40.0\n",
      "Name: Num Children, dtype: float64\n",
      "Temperature\n",
      "Outliers = Series([], Name: Temperature, dtype: float64)\n",
      "Rating\n",
      "Outliers = 57    -3.2\n",
      "99    10.9\n",
      "Name: Rating, dtype: float64\n"
     ]
    }
   ],
   "source": [
    "for col_name in student.select_dtypes(include=np.number).columns[:]:\n",
    "    print(col_name)\n",
    "    q1=student[col_name].quantile(0.25)\n",
    "    q3=student[col_name].quantile(0.75)\n",
    "    iqr=q3-q1\n",
    "    \n",
    "    low=q1-1.5*(iqr)\n",
    "    high=q3+1.5*(iqr)\n",
    "    \n",
    "    print(\"Outliers =\",student.loc[(student[col_name]<low ) | (student[col_name]>high),col_name])\n"
   ]
  },
  {
   "cell_type": "code",
   "execution_count": 332,
   "id": "f793d518",
   "metadata": {},
   "outputs": [],
   "source": [
    "student=student[~(student['Age']>100)]"
   ]
  },
  {
   "cell_type": "code",
   "execution_count": 333,
   "id": "99f2a208",
   "metadata": {},
   "outputs": [
    {
     "data": {
      "text/plain": [
       "42.07216494845361"
      ]
     },
     "execution_count": 333,
     "metadata": {},
     "output_type": "execute_result"
    }
   ],
   "source": [
    "student['Age'].mean()"
   ]
  },
  {
   "cell_type": "code",
   "execution_count": 334,
   "id": "422a54e5",
   "metadata": {},
   "outputs": [
    {
     "data": {
      "text/plain": [
       "41.0"
      ]
     },
     "execution_count": 334,
     "metadata": {},
     "output_type": "execute_result"
    }
   ],
   "source": [
    "student['Age'].median()"
   ]
  },
  {
   "cell_type": "code",
   "execution_count": 335,
   "id": "4dc32e72",
   "metadata": {},
   "outputs": [
    {
     "data": {
      "text/plain": [
       "0      43\n",
       "1      56\n",
       "3      37\n",
       "4      53\n",
       "5      54\n",
       "       ..\n",
       "96     48\n",
       "97     58\n",
       "98     50\n",
       "99     42\n",
       "101    61\n",
       "Name: Age, Length: 97, dtype: Int64"
      ]
     },
     "execution_count": 335,
     "metadata": {},
     "output_type": "execute_result"
    }
   ],
   "source": [
    "student['Age'].fillna(student['Age'].mean())"
   ]
  },
  {
   "cell_type": "code",
   "execution_count": 336,
   "id": "299b80b1",
   "metadata": {},
   "outputs": [
    {
     "data": {
      "text/plain": [
       "(97, 6)"
      ]
     },
     "execution_count": 336,
     "metadata": {},
     "output_type": "execute_result"
    }
   ],
   "source": [
    "student.shape"
   ]
  },
  {
   "cell_type": "code",
   "execution_count": 337,
   "id": "0f990362",
   "metadata": {},
   "outputs": [
    {
     "data": {
      "text/html": [
       "<div>\n",
       "<style scoped>\n",
       "    .dataframe tbody tr th:only-of-type {\n",
       "        vertical-align: middle;\n",
       "    }\n",
       "\n",
       "    .dataframe tbody tr th {\n",
       "        vertical-align: top;\n",
       "    }\n",
       "\n",
       "    .dataframe thead th {\n",
       "        text-align: right;\n",
       "    }\n",
       "</style>\n",
       "<table border=\"1\" class=\"dataframe\">\n",
       "  <thead>\n",
       "    <tr style=\"text-align: right;\">\n",
       "      <th></th>\n",
       "      <th>Age</th>\n",
       "      <th>Income</th>\n",
       "      <th>Is Student</th>\n",
       "      <th>Num Children</th>\n",
       "      <th>Temperature</th>\n",
       "      <th>Rating</th>\n",
       "    </tr>\n",
       "  </thead>\n",
       "  <tbody>\n",
       "    <tr>\n",
       "      <th>0</th>\n",
       "      <td>43</td>\n",
       "      <td>45893.41</td>\n",
       "      <td>True</td>\n",
       "      <td>0.0</td>\n",
       "      <td>38.2</td>\n",
       "      <td>2.6</td>\n",
       "    </tr>\n",
       "    <tr>\n",
       "      <th>1</th>\n",
       "      <td>56</td>\n",
       "      <td>69663.07</td>\n",
       "      <td>True</td>\n",
       "      <td>1.0</td>\n",
       "      <td>38.7</td>\n",
       "      <td>3.2</td>\n",
       "    </tr>\n",
       "    <tr>\n",
       "      <th>3</th>\n",
       "      <td>37</td>\n",
       "      <td>76724.60</td>\n",
       "      <td>False</td>\n",
       "      <td>2.0</td>\n",
       "      <td>41.6</td>\n",
       "      <td>2.5</td>\n",
       "    </tr>\n",
       "    <tr>\n",
       "      <th>4</th>\n",
       "      <td>53</td>\n",
       "      <td>58343.03</td>\n",
       "      <td>False</td>\n",
       "      <td>1.0</td>\n",
       "      <td>36.5</td>\n",
       "      <td>3.3</td>\n",
       "    </tr>\n",
       "    <tr>\n",
       "      <th>5</th>\n",
       "      <td>54</td>\n",
       "      <td>31161.17</td>\n",
       "      <td>True</td>\n",
       "      <td>5.0</td>\n",
       "      <td>37.4</td>\n",
       "      <td>4.1</td>\n",
       "    </tr>\n",
       "    <tr>\n",
       "      <th>...</th>\n",
       "      <td>...</td>\n",
       "      <td>...</td>\n",
       "      <td>...</td>\n",
       "      <td>...</td>\n",
       "      <td>...</td>\n",
       "      <td>...</td>\n",
       "    </tr>\n",
       "    <tr>\n",
       "      <th>96</th>\n",
       "      <td>48</td>\n",
       "      <td>90964.58</td>\n",
       "      <td>False</td>\n",
       "      <td>2.0</td>\n",
       "      <td>38.9</td>\n",
       "      <td>3.9</td>\n",
       "    </tr>\n",
       "    <tr>\n",
       "      <th>97</th>\n",
       "      <td>58</td>\n",
       "      <td>70679.33</td>\n",
       "      <td>True</td>\n",
       "      <td>4.0</td>\n",
       "      <td>41.3</td>\n",
       "      <td>4.8</td>\n",
       "    </tr>\n",
       "    <tr>\n",
       "      <th>98</th>\n",
       "      <td>50</td>\n",
       "      <td>97052.37</td>\n",
       "      <td>True</td>\n",
       "      <td>2.0</td>\n",
       "      <td>37.1</td>\n",
       "      <td>4.6</td>\n",
       "    </tr>\n",
       "    <tr>\n",
       "      <th>99</th>\n",
       "      <td>42</td>\n",
       "      <td>46673.04</td>\n",
       "      <td>False</td>\n",
       "      <td>5.0</td>\n",
       "      <td>38.8</td>\n",
       "      <td>10.9</td>\n",
       "    </tr>\n",
       "    <tr>\n",
       "      <th>101</th>\n",
       "      <td>61</td>\n",
       "      <td>83082.63</td>\n",
       "      <td>True</td>\n",
       "      <td>4.0</td>\n",
       "      <td>35.6</td>\n",
       "      <td>3.7</td>\n",
       "    </tr>\n",
       "  </tbody>\n",
       "</table>\n",
       "<p>97 rows × 6 columns</p>\n",
       "</div>"
      ],
      "text/plain": [
       "     Age    Income Is Student  Num Children  Temperature  Rating\n",
       "0     43  45893.41       True           0.0         38.2     2.6\n",
       "1     56  69663.07       True           1.0         38.7     3.2\n",
       "3     37  76724.60      False           2.0         41.6     2.5\n",
       "4     53  58343.03      False           1.0         36.5     3.3\n",
       "5     54  31161.17       True           5.0         37.4     4.1\n",
       "..   ...       ...        ...           ...          ...     ...\n",
       "96    48  90964.58      False           2.0         38.9     3.9\n",
       "97    58  70679.33       True           4.0         41.3     4.8\n",
       "98    50  97052.37       True           2.0         37.1     4.6\n",
       "99    42  46673.04      False           5.0         38.8    10.9\n",
       "101   61  83082.63       True           4.0         35.6     3.7\n",
       "\n",
       "[97 rows x 6 columns]"
      ]
     },
     "execution_count": 337,
     "metadata": {},
     "output_type": "execute_result"
    }
   ],
   "source": [
    "student"
   ]
  },
  {
   "cell_type": "code",
   "execution_count": 339,
   "id": "8b59d01b",
   "metadata": {
    "scrolled": true
   },
   "outputs": [
    {
     "data": {
      "text/plain": [
       "Age             0\n",
       "Income          0\n",
       "Is Student      0\n",
       "Num Children    2\n",
       "Temperature     0\n",
       "Rating          0\n",
       "dtype: int64"
      ]
     },
     "execution_count": 339,
     "metadata": {},
     "output_type": "execute_result"
    }
   ],
   "source": [
    "student.isna().sum()"
   ]
  },
  {
   "cell_type": "code",
   "execution_count": 340,
   "id": "84eb1875",
   "metadata": {},
   "outputs": [
    {
     "data": {
      "text/plain": [
       "3.031578947368421"
      ]
     },
     "execution_count": 340,
     "metadata": {},
     "output_type": "execute_result"
    }
   ],
   "source": [
    "student['Num Children'].mean()"
   ]
  },
  {
   "cell_type": "code",
   "execution_count": 341,
   "id": "3857b8cd",
   "metadata": {},
   "outputs": [
    {
     "data": {
      "text/plain": [
       "3.0"
      ]
     },
     "execution_count": 341,
     "metadata": {},
     "output_type": "execute_result"
    }
   ],
   "source": [
    "student['Num Children'].median()"
   ]
  },
  {
   "cell_type": "code",
   "execution_count": 344,
   "id": "6483c2ac",
   "metadata": {},
   "outputs": [],
   "source": [
    "student['Num Children']=student['Num Children'].fillna(student['Num Children'].mean())"
   ]
  },
  {
   "cell_type": "code",
   "execution_count": 345,
   "id": "b3866de2",
   "metadata": {},
   "outputs": [
    {
     "data": {
      "text/plain": [
       "0"
      ]
     },
     "execution_count": 345,
     "metadata": {},
     "output_type": "execute_result"
    }
   ],
   "source": [
    "student['Num Children'].isna().sum()"
   ]
  },
  {
   "cell_type": "code",
   "execution_count": 349,
   "id": "465e2056",
   "metadata": {},
   "outputs": [
    {
     "data": {
      "text/plain": [
       "array(['True', 'False', 'NO', 'Yes', 'false', 'true', 'YES'], dtype=object)"
      ]
     },
     "execution_count": 349,
     "metadata": {},
     "output_type": "execute_result"
    }
   ],
   "source": [
    "student['Is Student'].unique()"
   ]
  },
  {
   "cell_type": "code",
   "execution_count": 352,
   "id": "f7865345",
   "metadata": {},
   "outputs": [],
   "source": [
    "student['Is Student'] = student['Is Student'].replace({'NO':'False' , 'false':'False' , 'Yes':'True' , 'true':'True', 'YES':'True'})"
   ]
  },
  {
   "cell_type": "code",
   "execution_count": 353,
   "id": "8c8c7d4b",
   "metadata": {},
   "outputs": [
    {
     "data": {
      "text/plain": [
       "array(['True', 'False'], dtype=object)"
      ]
     },
     "execution_count": 353,
     "metadata": {},
     "output_type": "execute_result"
    }
   ],
   "source": [
    "student['Is Student'].unique()"
   ]
  },
  {
   "cell_type": "code",
   "execution_count": 356,
   "id": "1ee8ca75",
   "metadata": {},
   "outputs": [],
   "source": [
    "student.dropna(subset=['Age','Income','Is Student','Num Children','Temperature','Rating'],inplace=True)"
   ]
  },
  {
   "cell_type": "code",
   "execution_count": 357,
   "id": "4e544095",
   "metadata": {},
   "outputs": [
    {
     "data": {
      "text/plain": [
       "Age             0\n",
       "Income          0\n",
       "Is Student      0\n",
       "Num Children    0\n",
       "Temperature     0\n",
       "Rating          0\n",
       "dtype: int64"
      ]
     },
     "execution_count": 357,
     "metadata": {},
     "output_type": "execute_result"
    }
   ],
   "source": [
    "student.isna().sum()"
   ]
  },
  {
   "cell_type": "code",
   "execution_count": 358,
   "id": "502d9a85",
   "metadata": {},
   "outputs": [],
   "source": [
    "student=student[student['Age']>0]\n",
    "\n"
   ]
  },
  {
   "cell_type": "code",
   "execution_count": 359,
   "id": "b8de7465",
   "metadata": {},
   "outputs": [],
   "source": [
    "student=student[student['Income']>0]"
   ]
  },
  {
   "cell_type": "code",
   "execution_count": 361,
   "id": "05497acf",
   "metadata": {},
   "outputs": [],
   "source": [
    "student=student[student['Num Children']>0]"
   ]
  },
  {
   "cell_type": "code",
   "execution_count": 363,
   "id": "b7c8c5b3",
   "metadata": {},
   "outputs": [],
   "source": [
    "student=student[student['Temperature']>0]"
   ]
  },
  {
   "cell_type": "code",
   "execution_count": 364,
   "id": "552b0676",
   "metadata": {},
   "outputs": [],
   "source": [
    "student=student[student['Rating']>0]"
   ]
  },
  {
   "cell_type": "code",
   "execution_count": 365,
   "id": "7c2e1a0f",
   "metadata": {},
   "outputs": [
    {
     "data": {
      "text/plain": [
       "(83, 6)"
      ]
     },
     "execution_count": 365,
     "metadata": {},
     "output_type": "execute_result"
    }
   ],
   "source": [
    "student.shape"
   ]
  },
  {
   "cell_type": "code",
   "execution_count": 366,
   "id": "9bba78ba",
   "metadata": {},
   "outputs": [],
   "source": [
    "student_num=student.select_dtypes(include=np.number)"
   ]
  },
  {
   "cell_type": "code",
   "execution_count": 367,
   "id": "3b6ba317",
   "metadata": {},
   "outputs": [
    {
     "data": {
      "text/html": [
       "<div>\n",
       "<style scoped>\n",
       "    .dataframe tbody tr th:only-of-type {\n",
       "        vertical-align: middle;\n",
       "    }\n",
       "\n",
       "    .dataframe tbody tr th {\n",
       "        vertical-align: top;\n",
       "    }\n",
       "\n",
       "    .dataframe thead th {\n",
       "        text-align: right;\n",
       "    }\n",
       "</style>\n",
       "<table border=\"1\" class=\"dataframe\">\n",
       "  <thead>\n",
       "    <tr style=\"text-align: right;\">\n",
       "      <th></th>\n",
       "      <th>Age</th>\n",
       "      <th>Income</th>\n",
       "      <th>Num Children</th>\n",
       "      <th>Temperature</th>\n",
       "      <th>Rating</th>\n",
       "    </tr>\n",
       "  </thead>\n",
       "  <tbody>\n",
       "    <tr>\n",
       "      <th>1</th>\n",
       "      <td>56</td>\n",
       "      <td>69663.07</td>\n",
       "      <td>1.0</td>\n",
       "      <td>38.7</td>\n",
       "      <td>3.2</td>\n",
       "    </tr>\n",
       "    <tr>\n",
       "      <th>3</th>\n",
       "      <td>37</td>\n",
       "      <td>76724.60</td>\n",
       "      <td>2.0</td>\n",
       "      <td>41.6</td>\n",
       "      <td>2.5</td>\n",
       "    </tr>\n",
       "    <tr>\n",
       "      <th>4</th>\n",
       "      <td>53</td>\n",
       "      <td>58343.03</td>\n",
       "      <td>1.0</td>\n",
       "      <td>36.5</td>\n",
       "      <td>3.3</td>\n",
       "    </tr>\n",
       "    <tr>\n",
       "      <th>5</th>\n",
       "      <td>54</td>\n",
       "      <td>31161.17</td>\n",
       "      <td>5.0</td>\n",
       "      <td>37.4</td>\n",
       "      <td>4.1</td>\n",
       "    </tr>\n",
       "    <tr>\n",
       "      <th>6</th>\n",
       "      <td>37</td>\n",
       "      <td>44127.02</td>\n",
       "      <td>2.0</td>\n",
       "      <td>38.5</td>\n",
       "      <td>4.6</td>\n",
       "    </tr>\n",
       "    <tr>\n",
       "      <th>...</th>\n",
       "      <td>...</td>\n",
       "      <td>...</td>\n",
       "      <td>...</td>\n",
       "      <td>...</td>\n",
       "      <td>...</td>\n",
       "    </tr>\n",
       "    <tr>\n",
       "      <th>96</th>\n",
       "      <td>48</td>\n",
       "      <td>90964.58</td>\n",
       "      <td>2.0</td>\n",
       "      <td>38.9</td>\n",
       "      <td>3.9</td>\n",
       "    </tr>\n",
       "    <tr>\n",
       "      <th>97</th>\n",
       "      <td>58</td>\n",
       "      <td>70679.33</td>\n",
       "      <td>4.0</td>\n",
       "      <td>41.3</td>\n",
       "      <td>4.8</td>\n",
       "    </tr>\n",
       "    <tr>\n",
       "      <th>98</th>\n",
       "      <td>50</td>\n",
       "      <td>97052.37</td>\n",
       "      <td>2.0</td>\n",
       "      <td>37.1</td>\n",
       "      <td>4.6</td>\n",
       "    </tr>\n",
       "    <tr>\n",
       "      <th>99</th>\n",
       "      <td>42</td>\n",
       "      <td>46673.04</td>\n",
       "      <td>5.0</td>\n",
       "      <td>38.8</td>\n",
       "      <td>10.9</td>\n",
       "    </tr>\n",
       "    <tr>\n",
       "      <th>101</th>\n",
       "      <td>61</td>\n",
       "      <td>83082.63</td>\n",
       "      <td>4.0</td>\n",
       "      <td>35.6</td>\n",
       "      <td>3.7</td>\n",
       "    </tr>\n",
       "  </tbody>\n",
       "</table>\n",
       "<p>83 rows × 5 columns</p>\n",
       "</div>"
      ],
      "text/plain": [
       "     Age    Income  Num Children  Temperature  Rating\n",
       "1     56  69663.07           1.0         38.7     3.2\n",
       "3     37  76724.60           2.0         41.6     2.5\n",
       "4     53  58343.03           1.0         36.5     3.3\n",
       "5     54  31161.17           5.0         37.4     4.1\n",
       "6     37  44127.02           2.0         38.5     4.6\n",
       "..   ...       ...           ...          ...     ...\n",
       "96    48  90964.58           2.0         38.9     3.9\n",
       "97    58  70679.33           4.0         41.3     4.8\n",
       "98    50  97052.37           2.0         37.1     4.6\n",
       "99    42  46673.04           5.0         38.8    10.9\n",
       "101   61  83082.63           4.0         35.6     3.7\n",
       "\n",
       "[83 rows x 5 columns]"
      ]
     },
     "execution_count": 367,
     "metadata": {},
     "output_type": "execute_result"
    }
   ],
   "source": [
    "student_num"
   ]
  },
  {
   "cell_type": "code",
   "execution_count": 369,
   "id": "e2970a4a",
   "metadata": {},
   "outputs": [],
   "source": [
    "scaling=StandardScaler()"
   ]
  },
  {
   "cell_type": "code",
   "execution_count": 372,
   "id": "d1cf2ca0",
   "metadata": {},
   "outputs": [],
   "source": [
    "student_scale=pd.DataFrame(scaling.fit_transform(student_num),columns=student_num.columns)"
   ]
  },
  {
   "cell_type": "code",
   "execution_count": 373,
   "id": "9665d869",
   "metadata": {},
   "outputs": [
    {
     "data": {
      "text/html": [
       "<div>\n",
       "<style scoped>\n",
       "    .dataframe tbody tr th:only-of-type {\n",
       "        vertical-align: middle;\n",
       "    }\n",
       "\n",
       "    .dataframe tbody tr th {\n",
       "        vertical-align: top;\n",
       "    }\n",
       "\n",
       "    .dataframe thead th {\n",
       "        text-align: right;\n",
       "    }\n",
       "</style>\n",
       "<table border=\"1\" class=\"dataframe\">\n",
       "  <thead>\n",
       "    <tr style=\"text-align: right;\">\n",
       "      <th></th>\n",
       "      <th>Age</th>\n",
       "      <th>Income</th>\n",
       "      <th>Num Children</th>\n",
       "      <th>Temperature</th>\n",
       "      <th>Rating</th>\n",
       "    </tr>\n",
       "  </thead>\n",
       "  <tbody>\n",
       "    <tr>\n",
       "      <th>0</th>\n",
       "      <td>1.096229</td>\n",
       "      <td>0.528982</td>\n",
       "      <td>-0.588600</td>\n",
       "      <td>0.073162</td>\n",
       "      <td>-0.166082</td>\n",
       "    </tr>\n",
       "    <tr>\n",
       "      <th>1</th>\n",
       "      <td>-0.358950</td>\n",
       "      <td>0.846251</td>\n",
       "      <td>-0.351518</td>\n",
       "      <td>1.459776</td>\n",
       "      <td>-0.690504</td>\n",
       "    </tr>\n",
       "    <tr>\n",
       "      <th>2</th>\n",
       "      <td>0.866464</td>\n",
       "      <td>0.020382</td>\n",
       "      <td>-0.588600</td>\n",
       "      <td>-0.978753</td>\n",
       "      <td>-0.091165</td>\n",
       "    </tr>\n",
       "    <tr>\n",
       "      <th>3</th>\n",
       "      <td>0.943052</td>\n",
       "      <td>-1.200877</td>\n",
       "      <td>0.359727</td>\n",
       "      <td>-0.548424</td>\n",
       "      <td>0.508175</td>\n",
       "    </tr>\n",
       "    <tr>\n",
       "      <th>4</th>\n",
       "      <td>-0.358950</td>\n",
       "      <td>-0.618332</td>\n",
       "      <td>-0.351518</td>\n",
       "      <td>-0.022467</td>\n",
       "      <td>0.882762</td>\n",
       "    </tr>\n",
       "    <tr>\n",
       "      <th>...</th>\n",
       "      <td>...</td>\n",
       "      <td>...</td>\n",
       "      <td>...</td>\n",
       "      <td>...</td>\n",
       "      <td>...</td>\n",
       "    </tr>\n",
       "    <tr>\n",
       "      <th>78</th>\n",
       "      <td>0.483522</td>\n",
       "      <td>1.486042</td>\n",
       "      <td>-0.351518</td>\n",
       "      <td>0.168790</td>\n",
       "      <td>0.358340</td>\n",
       "    </tr>\n",
       "    <tr>\n",
       "      <th>79</th>\n",
       "      <td>1.249406</td>\n",
       "      <td>0.574642</td>\n",
       "      <td>0.122645</td>\n",
       "      <td>1.316333</td>\n",
       "      <td>1.032597</td>\n",
       "    </tr>\n",
       "    <tr>\n",
       "      <th>80</th>\n",
       "      <td>0.636699</td>\n",
       "      <td>1.759561</td>\n",
       "      <td>-0.351518</td>\n",
       "      <td>-0.691867</td>\n",
       "      <td>0.882762</td>\n",
       "    </tr>\n",
       "    <tr>\n",
       "      <th>81</th>\n",
       "      <td>0.023992</td>\n",
       "      <td>-0.503941</td>\n",
       "      <td>0.359727</td>\n",
       "      <td>0.120976</td>\n",
       "      <td>5.602561</td>\n",
       "    </tr>\n",
       "    <tr>\n",
       "      <th>82</th>\n",
       "      <td>1.479171</td>\n",
       "      <td>1.131912</td>\n",
       "      <td>0.122645</td>\n",
       "      <td>-1.409082</td>\n",
       "      <td>0.208505</td>\n",
       "    </tr>\n",
       "  </tbody>\n",
       "</table>\n",
       "<p>83 rows × 5 columns</p>\n",
       "</div>"
      ],
      "text/plain": [
       "         Age    Income  Num Children  Temperature    Rating\n",
       "0   1.096229  0.528982     -0.588600     0.073162 -0.166082\n",
       "1  -0.358950  0.846251     -0.351518     1.459776 -0.690504\n",
       "2   0.866464  0.020382     -0.588600    -0.978753 -0.091165\n",
       "3   0.943052 -1.200877      0.359727    -0.548424  0.508175\n",
       "4  -0.358950 -0.618332     -0.351518    -0.022467  0.882762\n",
       "..       ...       ...           ...          ...       ...\n",
       "78  0.483522  1.486042     -0.351518     0.168790  0.358340\n",
       "79  1.249406  0.574642      0.122645     1.316333  1.032597\n",
       "80  0.636699  1.759561     -0.351518    -0.691867  0.882762\n",
       "81  0.023992 -0.503941      0.359727     0.120976  5.602561\n",
       "82  1.479171  1.131912      0.122645    -1.409082  0.208505\n",
       "\n",
       "[83 rows x 5 columns]"
      ]
     },
     "execution_count": 373,
     "metadata": {},
     "output_type": "execute_result"
    }
   ],
   "source": [
    "student_scale"
   ]
  },
  {
   "cell_type": "code",
   "execution_count": 375,
   "id": "a87f3236",
   "metadata": {},
   "outputs": [],
   "source": [
    "student_cat=student.select_dtypes(exclude=np.number)"
   ]
  },
  {
   "cell_type": "code",
   "execution_count": 382,
   "id": "20c357c9",
   "metadata": {
    "scrolled": true
   },
   "outputs": [
    {
     "data": {
      "text/plain": [
       "(83, 1)"
      ]
     },
     "execution_count": 382,
     "metadata": {},
     "output_type": "execute_result"
    }
   ],
   "source": [
    "student_cat.shape"
   ]
  },
  {
   "cell_type": "code",
   "execution_count": 385,
   "id": "82e60580",
   "metadata": {},
   "outputs": [
    {
     "data": {
      "text/plain": [
       "(83, 6)"
      ]
     },
     "execution_count": 385,
     "metadata": {},
     "output_type": "execute_result"
    }
   ],
   "source": [
    "student.shape"
   ]
  },
  {
   "cell_type": "markdown",
   "id": "c045bb41",
   "metadata": {},
   "source": [
    "data_gender_cat = pd.get_dummies(data_cat['Gender'])"
   ]
  },
  {
   "cell_type": "code",
   "execution_count": 394,
   "id": "00000895",
   "metadata": {},
   "outputs": [],
   "source": [
    "student_is_cat=pd.get_dummies(student_cat)"
   ]
  },
  {
   "cell_type": "code",
   "execution_count": 395,
   "id": "5a2a7de0",
   "metadata": {},
   "outputs": [
    {
     "data": {
      "text/html": [
       "<div>\n",
       "<style scoped>\n",
       "    .dataframe tbody tr th:only-of-type {\n",
       "        vertical-align: middle;\n",
       "    }\n",
       "\n",
       "    .dataframe tbody tr th {\n",
       "        vertical-align: top;\n",
       "    }\n",
       "\n",
       "    .dataframe thead th {\n",
       "        text-align: right;\n",
       "    }\n",
       "</style>\n",
       "<table border=\"1\" class=\"dataframe\">\n",
       "  <thead>\n",
       "    <tr style=\"text-align: right;\">\n",
       "      <th></th>\n",
       "      <th>Is Student_False</th>\n",
       "      <th>Is Student_True</th>\n",
       "    </tr>\n",
       "  </thead>\n",
       "  <tbody>\n",
       "    <tr>\n",
       "      <th>1</th>\n",
       "      <td>0</td>\n",
       "      <td>1</td>\n",
       "    </tr>\n",
       "    <tr>\n",
       "      <th>3</th>\n",
       "      <td>1</td>\n",
       "      <td>0</td>\n",
       "    </tr>\n",
       "    <tr>\n",
       "      <th>4</th>\n",
       "      <td>1</td>\n",
       "      <td>0</td>\n",
       "    </tr>\n",
       "    <tr>\n",
       "      <th>5</th>\n",
       "      <td>0</td>\n",
       "      <td>1</td>\n",
       "    </tr>\n",
       "    <tr>\n",
       "      <th>6</th>\n",
       "      <td>1</td>\n",
       "      <td>0</td>\n",
       "    </tr>\n",
       "    <tr>\n",
       "      <th>...</th>\n",
       "      <td>...</td>\n",
       "      <td>...</td>\n",
       "    </tr>\n",
       "    <tr>\n",
       "      <th>96</th>\n",
       "      <td>1</td>\n",
       "      <td>0</td>\n",
       "    </tr>\n",
       "    <tr>\n",
       "      <th>97</th>\n",
       "      <td>0</td>\n",
       "      <td>1</td>\n",
       "    </tr>\n",
       "    <tr>\n",
       "      <th>98</th>\n",
       "      <td>0</td>\n",
       "      <td>1</td>\n",
       "    </tr>\n",
       "    <tr>\n",
       "      <th>99</th>\n",
       "      <td>1</td>\n",
       "      <td>0</td>\n",
       "    </tr>\n",
       "    <tr>\n",
       "      <th>101</th>\n",
       "      <td>0</td>\n",
       "      <td>1</td>\n",
       "    </tr>\n",
       "  </tbody>\n",
       "</table>\n",
       "<p>83 rows × 2 columns</p>\n",
       "</div>"
      ],
      "text/plain": [
       "     Is Student_False  Is Student_True\n",
       "1                   0                1\n",
       "3                   1                0\n",
       "4                   1                0\n",
       "5                   0                1\n",
       "6                   1                0\n",
       "..                ...              ...\n",
       "96                  1                0\n",
       "97                  0                1\n",
       "98                  0                1\n",
       "99                  1                0\n",
       "101                 0                1\n",
       "\n",
       "[83 rows x 2 columns]"
      ]
     },
     "execution_count": 395,
     "metadata": {},
     "output_type": "execute_result"
    }
   ],
   "source": [
    "student_is_cat"
   ]
  },
  {
   "cell_type": "code",
   "execution_count": 396,
   "id": "3bbcfc9a",
   "metadata": {},
   "outputs": [],
   "source": [
    "student_is_cat=student_is_cat.reset_index().drop(columns='index')"
   ]
  },
  {
   "cell_type": "code",
   "execution_count": 398,
   "id": "b165f1a4",
   "metadata": {},
   "outputs": [],
   "source": [
    "student_scale=student_scale.reset_index().drop(columns='index')"
   ]
  },
  {
   "cell_type": "code",
   "execution_count": 401,
   "id": "a430eed9",
   "metadata": {},
   "outputs": [
    {
     "data": {
      "text/html": [
       "<div>\n",
       "<style scoped>\n",
       "    .dataframe tbody tr th:only-of-type {\n",
       "        vertical-align: middle;\n",
       "    }\n",
       "\n",
       "    .dataframe tbody tr th {\n",
       "        vertical-align: top;\n",
       "    }\n",
       "\n",
       "    .dataframe thead th {\n",
       "        text-align: right;\n",
       "    }\n",
       "</style>\n",
       "<table border=\"1\" class=\"dataframe\">\n",
       "  <thead>\n",
       "    <tr style=\"text-align: right;\">\n",
       "      <th></th>\n",
       "      <th>Age</th>\n",
       "      <th>Income</th>\n",
       "      <th>Num Children</th>\n",
       "      <th>Temperature</th>\n",
       "      <th>Rating</th>\n",
       "      <th>Is Student_False</th>\n",
       "      <th>Is Student_True</th>\n",
       "    </tr>\n",
       "  </thead>\n",
       "  <tbody>\n",
       "    <tr>\n",
       "      <th>0</th>\n",
       "      <td>1.096229</td>\n",
       "      <td>0.528982</td>\n",
       "      <td>-0.588600</td>\n",
       "      <td>0.073162</td>\n",
       "      <td>-0.166082</td>\n",
       "      <td>0</td>\n",
       "      <td>1</td>\n",
       "    </tr>\n",
       "    <tr>\n",
       "      <th>1</th>\n",
       "      <td>-0.358950</td>\n",
       "      <td>0.846251</td>\n",
       "      <td>-0.351518</td>\n",
       "      <td>1.459776</td>\n",
       "      <td>-0.690504</td>\n",
       "      <td>1</td>\n",
       "      <td>0</td>\n",
       "    </tr>\n",
       "    <tr>\n",
       "      <th>2</th>\n",
       "      <td>0.866464</td>\n",
       "      <td>0.020382</td>\n",
       "      <td>-0.588600</td>\n",
       "      <td>-0.978753</td>\n",
       "      <td>-0.091165</td>\n",
       "      <td>1</td>\n",
       "      <td>0</td>\n",
       "    </tr>\n",
       "    <tr>\n",
       "      <th>3</th>\n",
       "      <td>0.943052</td>\n",
       "      <td>-1.200877</td>\n",
       "      <td>0.359727</td>\n",
       "      <td>-0.548424</td>\n",
       "      <td>0.508175</td>\n",
       "      <td>0</td>\n",
       "      <td>1</td>\n",
       "    </tr>\n",
       "    <tr>\n",
       "      <th>4</th>\n",
       "      <td>-0.358950</td>\n",
       "      <td>-0.618332</td>\n",
       "      <td>-0.351518</td>\n",
       "      <td>-0.022467</td>\n",
       "      <td>0.882762</td>\n",
       "      <td>1</td>\n",
       "      <td>0</td>\n",
       "    </tr>\n",
       "    <tr>\n",
       "      <th>...</th>\n",
       "      <td>...</td>\n",
       "      <td>...</td>\n",
       "      <td>...</td>\n",
       "      <td>...</td>\n",
       "      <td>...</td>\n",
       "      <td>...</td>\n",
       "      <td>...</td>\n",
       "    </tr>\n",
       "    <tr>\n",
       "      <th>78</th>\n",
       "      <td>0.483522</td>\n",
       "      <td>1.486042</td>\n",
       "      <td>-0.351518</td>\n",
       "      <td>0.168790</td>\n",
       "      <td>0.358340</td>\n",
       "      <td>1</td>\n",
       "      <td>0</td>\n",
       "    </tr>\n",
       "    <tr>\n",
       "      <th>79</th>\n",
       "      <td>1.249406</td>\n",
       "      <td>0.574642</td>\n",
       "      <td>0.122645</td>\n",
       "      <td>1.316333</td>\n",
       "      <td>1.032597</td>\n",
       "      <td>0</td>\n",
       "      <td>1</td>\n",
       "    </tr>\n",
       "    <tr>\n",
       "      <th>80</th>\n",
       "      <td>0.636699</td>\n",
       "      <td>1.759561</td>\n",
       "      <td>-0.351518</td>\n",
       "      <td>-0.691867</td>\n",
       "      <td>0.882762</td>\n",
       "      <td>0</td>\n",
       "      <td>1</td>\n",
       "    </tr>\n",
       "    <tr>\n",
       "      <th>81</th>\n",
       "      <td>0.023992</td>\n",
       "      <td>-0.503941</td>\n",
       "      <td>0.359727</td>\n",
       "      <td>0.120976</td>\n",
       "      <td>5.602561</td>\n",
       "      <td>1</td>\n",
       "      <td>0</td>\n",
       "    </tr>\n",
       "    <tr>\n",
       "      <th>82</th>\n",
       "      <td>1.479171</td>\n",
       "      <td>1.131912</td>\n",
       "      <td>0.122645</td>\n",
       "      <td>-1.409082</td>\n",
       "      <td>0.208505</td>\n",
       "      <td>0</td>\n",
       "      <td>1</td>\n",
       "    </tr>\n",
       "  </tbody>\n",
       "</table>\n",
       "<p>83 rows × 7 columns</p>\n",
       "</div>"
      ],
      "text/plain": [
       "         Age    Income  Num Children  Temperature    Rating  Is Student_False  \\\n",
       "0   1.096229  0.528982     -0.588600     0.073162 -0.166082                 0   \n",
       "1  -0.358950  0.846251     -0.351518     1.459776 -0.690504                 1   \n",
       "2   0.866464  0.020382     -0.588600    -0.978753 -0.091165                 1   \n",
       "3   0.943052 -1.200877      0.359727    -0.548424  0.508175                 0   \n",
       "4  -0.358950 -0.618332     -0.351518    -0.022467  0.882762                 1   \n",
       "..       ...       ...           ...          ...       ...               ...   \n",
       "78  0.483522  1.486042     -0.351518     0.168790  0.358340                 1   \n",
       "79  1.249406  0.574642      0.122645     1.316333  1.032597                 0   \n",
       "80  0.636699  1.759561     -0.351518    -0.691867  0.882762                 0   \n",
       "81  0.023992 -0.503941      0.359727     0.120976  5.602561                 1   \n",
       "82  1.479171  1.131912      0.122645    -1.409082  0.208505                 0   \n",
       "\n",
       "    Is Student_True  \n",
       "0                 1  \n",
       "1                 0  \n",
       "2                 0  \n",
       "3                 1  \n",
       "4                 0  \n",
       "..              ...  \n",
       "78                0  \n",
       "79                1  \n",
       "80                1  \n",
       "81                0  \n",
       "82                1  \n",
       "\n",
       "[83 rows x 7 columns]"
      ]
     },
     "execution_count": 401,
     "metadata": {},
     "output_type": "execute_result"
    }
   ],
   "source": [
    "pd.concat([student_scale,student_is_cat], axis = 1)"
   ]
  },
  {
   "cell_type": "code",
   "execution_count": null,
   "id": "bf586782",
   "metadata": {},
   "outputs": [],
   "source": []
  }
 ],
 "metadata": {
  "kernelspec": {
   "display_name": "Python 3 (ipykernel)",
   "language": "python",
   "name": "python3"
  },
  "language_info": {
   "codemirror_mode": {
    "name": "ipython",
    "version": 3
   },
   "file_extension": ".py",
   "mimetype": "text/x-python",
   "name": "python",
   "nbconvert_exporter": "python",
   "pygments_lexer": "ipython3",
   "version": "3.10.9"
  }
 },
 "nbformat": 4,
 "nbformat_minor": 5
}
